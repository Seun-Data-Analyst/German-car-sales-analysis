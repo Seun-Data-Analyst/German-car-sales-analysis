{
 "cells": [
  {
   "cell_type": "code",
   "execution_count": 1,
   "id": "eac65ad9-f315-4af1-92ee-8a6e4ea0bd62",
   "metadata": {},
   "outputs": [
    {
     "data": {
      "text/html": [
       "<div>\n",
       "<style scoped>\n",
       "    .dataframe tbody tr th:only-of-type {\n",
       "        vertical-align: middle;\n",
       "    }\n",
       "\n",
       "    .dataframe tbody tr th {\n",
       "        vertical-align: top;\n",
       "    }\n",
       "\n",
       "    .dataframe thead th {\n",
       "        text-align: right;\n",
       "    }\n",
       "</style>\n",
       "<table border=\"1\" class=\"dataframe\">\n",
       "  <thead>\n",
       "    <tr style=\"text-align: right;\">\n",
       "      <th></th>\n",
       "      <th>Unnamed: 0</th>\n",
       "      <th>name</th>\n",
       "      <th>price</th>\n",
       "      <th>description</th>\n",
       "      <th>trassmition</th>\n",
       "      <th>model</th>\n",
       "      <th>milage</th>\n",
       "      <th>fuel</th>\n",
       "      <th>Brand</th>\n",
       "      <th>Segment</th>\n",
       "    </tr>\n",
       "  </thead>\n",
       "  <tbody>\n",
       "    <tr>\n",
       "      <th>0</th>\n",
       "      <td>0</td>\n",
       "      <td>Seat Leon</td>\n",
       "      <td>26118</td>\n",
       "      <td>Sportstourer 1.4 E-hybrid Fr Led Acc Navi</td>\n",
       "      <td>Automatic</td>\n",
       "      <td>2021</td>\n",
       "      <td>52080</td>\n",
       "      <td>Hybrid</td>\n",
       "      <td>Seat</td>\n",
       "      <td>Low-Range</td>\n",
       "    </tr>\n",
       "    <tr>\n",
       "      <th>1</th>\n",
       "      <td>1</td>\n",
       "      <td>Volvo V60</td>\n",
       "      <td>27777</td>\n",
       "      <td>T6 Awd Recharge Plug-in Momentum Pro Ahk</td>\n",
       "      <td>Automatic</td>\n",
       "      <td>2020</td>\n",
       "      <td>107217</td>\n",
       "      <td>Hybrid</td>\n",
       "      <td>Volvo</td>\n",
       "      <td>Premium</td>\n",
       "    </tr>\n",
       "    <tr>\n",
       "      <th>2</th>\n",
       "      <td>2</td>\n",
       "      <td>Volkswagen Tiguan</td>\n",
       "      <td>20392</td>\n",
       "      <td>2.0 Tdi Navi/sound/bmt,comfortline,1.hand</td>\n",
       "      <td>Manual</td>\n",
       "      <td>2017</td>\n",
       "      <td>123000</td>\n",
       "      <td>Diesel</td>\n",
       "      <td>Volkswagen</td>\n",
       "      <td>Premium</td>\n",
       "    </tr>\n",
       "    <tr>\n",
       "      <th>3</th>\n",
       "      <td>3</td>\n",
       "      <td>Volkswagen Tiguan</td>\n",
       "      <td>30967</td>\n",
       "      <td>2.0 Tdi Highline R-line 4mo. Led+navi+acc</td>\n",
       "      <td>Automatic</td>\n",
       "      <td>2019</td>\n",
       "      <td>68100</td>\n",
       "      <td>Diesel</td>\n",
       "      <td>Volkswagen</td>\n",
       "      <td>Premium</td>\n",
       "    </tr>\n",
       "    <tr>\n",
       "      <th>4</th>\n",
       "      <td>4</td>\n",
       "      <td>Volkswagen Tiguan</td>\n",
       "      <td>22892</td>\n",
       "      <td>Join Start-stopp 2hand Ahk Garantie</td>\n",
       "      <td>Manual</td>\n",
       "      <td>2018</td>\n",
       "      <td>105958</td>\n",
       "      <td>Diesel</td>\n",
       "      <td>Volkswagen</td>\n",
       "      <td>Premium</td>\n",
       "    </tr>\n",
       "    <tr>\n",
       "      <th>...</th>\n",
       "      <td>...</td>\n",
       "      <td>...</td>\n",
       "      <td>...</td>\n",
       "      <td>...</td>\n",
       "      <td>...</td>\n",
       "      <td>...</td>\n",
       "      <td>...</td>\n",
       "      <td>...</td>\n",
       "      <td>...</td>\n",
       "      <td>...</td>\n",
       "    </tr>\n",
       "    <tr>\n",
       "      <th>8965</th>\n",
       "      <td>8965</td>\n",
       "      <td>Porsche Cayenne</td>\n",
       "      <td>95691</td>\n",
       "      <td>E-hybrid</td>\n",
       "      <td>Automatic</td>\n",
       "      <td>2022</td>\n",
       "      <td>14800</td>\n",
       "      <td>Hybrid</td>\n",
       "      <td>Porsche</td>\n",
       "      <td>Ultra-Luxury/Exotic</td>\n",
       "    </tr>\n",
       "    <tr>\n",
       "      <th>8966</th>\n",
       "      <td>8966</td>\n",
       "      <td>Porsche Cayenne</td>\n",
       "      <td>47533</td>\n",
       "      <td>Diesel / Sportdesign / Voll / 1.hd.</td>\n",
       "      <td>Automatic</td>\n",
       "      <td>2016</td>\n",
       "      <td>99870</td>\n",
       "      <td>Diesel</td>\n",
       "      <td>Porsche</td>\n",
       "      <td>Ultra-Luxury/Exotic</td>\n",
       "    </tr>\n",
       "    <tr>\n",
       "      <th>8967</th>\n",
       "      <td>8967</td>\n",
       "      <td>Porsche Cayenne</td>\n",
       "      <td>84648</td>\n",
       "      <td>Coupe E-hybrid*head-up*360°cam*panorama*</td>\n",
       "      <td>Automatic</td>\n",
       "      <td>2021</td>\n",
       "      <td>36500</td>\n",
       "      <td>Hybrid</td>\n",
       "      <td>Porsche</td>\n",
       "      <td>Ultra-Luxury/Exotic</td>\n",
       "    </tr>\n",
       "    <tr>\n",
       "      <th>8968</th>\n",
       "      <td>8968</td>\n",
       "      <td>Porsche 718</td>\n",
       "      <td>95657</td>\n",
       "      <td>Gts 4.0 2023 .6 Gang  1.hand,bose</td>\n",
       "      <td>Manual</td>\n",
       "      <td>2023</td>\n",
       "      <td>6500</td>\n",
       "      <td>Petrol</td>\n",
       "      <td>Porsche</td>\n",
       "      <td>Ultra-Luxury/Exotic</td>\n",
       "    </tr>\n",
       "    <tr>\n",
       "      <th>8969</th>\n",
       "      <td>8969</td>\n",
       "      <td>Porsche Cayenne</td>\n",
       "      <td>94771</td>\n",
       "      <td>Gts Coupe*chrono*360°cam*acc*hud*voll*</td>\n",
       "      <td>Automatic</td>\n",
       "      <td>2020</td>\n",
       "      <td>65000</td>\n",
       "      <td>Petrol</td>\n",
       "      <td>Porsche</td>\n",
       "      <td>Ultra-Luxury/Exotic</td>\n",
       "    </tr>\n",
       "  </tbody>\n",
       "</table>\n",
       "<p>8970 rows × 10 columns</p>\n",
       "</div>"
      ],
      "text/plain": [
       "      Unnamed: 0               name  price  \\\n",
       "0              0          Seat Leon  26118   \n",
       "1              1          Volvo V60  27777   \n",
       "2              2  Volkswagen Tiguan  20392   \n",
       "3              3  Volkswagen Tiguan  30967   \n",
       "4              4  Volkswagen Tiguan  22892   \n",
       "...          ...                ...    ...   \n",
       "8965        8965    Porsche Cayenne  95691   \n",
       "8966        8966    Porsche Cayenne  47533   \n",
       "8967        8967    Porsche Cayenne  84648   \n",
       "8968        8968        Porsche 718  95657   \n",
       "8969        8969    Porsche Cayenne  94771   \n",
       "\n",
       "                                    description trassmition  model  milage  \\\n",
       "0     Sportstourer 1.4 E-hybrid Fr Led Acc Navi   Automatic   2021   52080   \n",
       "1      T6 Awd Recharge Plug-in Momentum Pro Ahk   Automatic   2020  107217   \n",
       "2     2.0 Tdi Navi/sound/bmt,comfortline,1.hand      Manual   2017  123000   \n",
       "3     2.0 Tdi Highline R-line 4mo. Led+navi+acc   Automatic   2019   68100   \n",
       "4           Join Start-stopp 2hand Ahk Garantie      Manual   2018  105958   \n",
       "...                                         ...         ...    ...     ...   \n",
       "8965                                   E-hybrid   Automatic   2022   14800   \n",
       "8966        Diesel / Sportdesign / Voll / 1.hd.   Automatic   2016   99870   \n",
       "8967   Coupe E-hybrid*head-up*360°cam*panorama*   Automatic   2021   36500   \n",
       "8968          Gts 4.0 2023 .6 Gang  1.hand,bose      Manual   2023    6500   \n",
       "8969     Gts Coupe*chrono*360°cam*acc*hud*voll*   Automatic   2020   65000   \n",
       "\n",
       "        fuel       Brand              Segment  \n",
       "0     Hybrid        Seat            Low-Range  \n",
       "1     Hybrid       Volvo              Premium  \n",
       "2     Diesel  Volkswagen              Premium  \n",
       "3     Diesel  Volkswagen              Premium  \n",
       "4     Diesel  Volkswagen              Premium  \n",
       "...      ...         ...                  ...  \n",
       "8965  Hybrid     Porsche  Ultra-Luxury/Exotic  \n",
       "8966  Diesel     Porsche  Ultra-Luxury/Exotic  \n",
       "8967  Hybrid     Porsche  Ultra-Luxury/Exotic  \n",
       "8968  Petrol     Porsche  Ultra-Luxury/Exotic  \n",
       "8969  Petrol     Porsche  Ultra-Luxury/Exotic  \n",
       "\n",
       "[8970 rows x 10 columns]"
      ]
     },
     "execution_count": 1,
     "metadata": {},
     "output_type": "execute_result"
    }
   ],
   "source": [
    "import pandas as pd\n",
    "cars = pd.read_csv(\"cleaned_german_cars_data.csv\")\n",
    "cars"
   ]
  },
  {
   "cell_type": "markdown",
   "id": "22594fd8-b88a-4b35-999a-6b16a8a8d8d5",
   "metadata": {},
   "source": [
    "### 1. Using your knowledge of data preprocessing, determine whether the dataset is clean and ready for analysis"
   ]
  },
  {
   "cell_type": "code",
   "execution_count": 3,
   "id": "5856fc22-192d-4b9f-b2a8-9cb6c7a3b9a0",
   "metadata": {},
   "outputs": [
    {
     "data": {
      "text/plain": [
       "Unnamed: 0      0\n",
       "name            0\n",
       "price           0\n",
       "description    27\n",
       "trassmition     0\n",
       "model           0\n",
       "milage          0\n",
       "fuel            0\n",
       "Brand           0\n",
       "Segment         0\n",
       "dtype: int64"
      ]
     },
     "execution_count": 3,
     "metadata": {},
     "output_type": "execute_result"
    }
   ],
   "source": [
    "cars.isna().sum()"
   ]
  },
  {
   "cell_type": "code",
   "execution_count": 4,
   "id": "b3471c67-4766-4bcb-ac71-04db25f401bd",
   "metadata": {},
   "outputs": [],
   "source": [
    "cars.fillna(0,inplace=True)"
   ]
  },
  {
   "cell_type": "code",
   "execution_count": 5,
   "id": "da7c42d8-61cb-40bd-bd6f-400403a28a38",
   "metadata": {},
   "outputs": [
    {
     "data": {
      "text/html": [
       "<div>\n",
       "<style scoped>\n",
       "    .dataframe tbody tr th:only-of-type {\n",
       "        vertical-align: middle;\n",
       "    }\n",
       "\n",
       "    .dataframe tbody tr th {\n",
       "        vertical-align: top;\n",
       "    }\n",
       "\n",
       "    .dataframe thead th {\n",
       "        text-align: right;\n",
       "    }\n",
       "</style>\n",
       "<table border=\"1\" class=\"dataframe\">\n",
       "  <thead>\n",
       "    <tr style=\"text-align: right;\">\n",
       "      <th></th>\n",
       "      <th>Unnamed: 0</th>\n",
       "      <th>name</th>\n",
       "      <th>price</th>\n",
       "      <th>description</th>\n",
       "      <th>trassmition</th>\n",
       "      <th>model</th>\n",
       "      <th>milage</th>\n",
       "      <th>fuel</th>\n",
       "      <th>Brand</th>\n",
       "      <th>Segment</th>\n",
       "    </tr>\n",
       "  </thead>\n",
       "  <tbody>\n",
       "    <tr>\n",
       "      <th>0</th>\n",
       "      <td>0</td>\n",
       "      <td>Seat Leon</td>\n",
       "      <td>26118</td>\n",
       "      <td>Sportstourer 1.4 E-hybrid Fr Led Acc Navi</td>\n",
       "      <td>Automatic</td>\n",
       "      <td>2021</td>\n",
       "      <td>52080</td>\n",
       "      <td>Hybrid</td>\n",
       "      <td>Seat</td>\n",
       "      <td>Low-Range</td>\n",
       "    </tr>\n",
       "    <tr>\n",
       "      <th>1</th>\n",
       "      <td>1</td>\n",
       "      <td>Volvo V60</td>\n",
       "      <td>27777</td>\n",
       "      <td>T6 Awd Recharge Plug-in Momentum Pro Ahk</td>\n",
       "      <td>Automatic</td>\n",
       "      <td>2020</td>\n",
       "      <td>107217</td>\n",
       "      <td>Hybrid</td>\n",
       "      <td>Volvo</td>\n",
       "      <td>Premium</td>\n",
       "    </tr>\n",
       "    <tr>\n",
       "      <th>2</th>\n",
       "      <td>2</td>\n",
       "      <td>Volkswagen Tiguan</td>\n",
       "      <td>20392</td>\n",
       "      <td>2.0 Tdi Navi/sound/bmt,comfortline,1.hand</td>\n",
       "      <td>Manual</td>\n",
       "      <td>2017</td>\n",
       "      <td>123000</td>\n",
       "      <td>Diesel</td>\n",
       "      <td>Volkswagen</td>\n",
       "      <td>Premium</td>\n",
       "    </tr>\n",
       "    <tr>\n",
       "      <th>3</th>\n",
       "      <td>3</td>\n",
       "      <td>Volkswagen Tiguan</td>\n",
       "      <td>30967</td>\n",
       "      <td>2.0 Tdi Highline R-line 4mo. Led+navi+acc</td>\n",
       "      <td>Automatic</td>\n",
       "      <td>2019</td>\n",
       "      <td>68100</td>\n",
       "      <td>Diesel</td>\n",
       "      <td>Volkswagen</td>\n",
       "      <td>Premium</td>\n",
       "    </tr>\n",
       "    <tr>\n",
       "      <th>4</th>\n",
       "      <td>4</td>\n",
       "      <td>Volkswagen Tiguan</td>\n",
       "      <td>22892</td>\n",
       "      <td>Join Start-stopp 2hand Ahk Garantie</td>\n",
       "      <td>Manual</td>\n",
       "      <td>2018</td>\n",
       "      <td>105958</td>\n",
       "      <td>Diesel</td>\n",
       "      <td>Volkswagen</td>\n",
       "      <td>Premium</td>\n",
       "    </tr>\n",
       "    <tr>\n",
       "      <th>...</th>\n",
       "      <td>...</td>\n",
       "      <td>...</td>\n",
       "      <td>...</td>\n",
       "      <td>...</td>\n",
       "      <td>...</td>\n",
       "      <td>...</td>\n",
       "      <td>...</td>\n",
       "      <td>...</td>\n",
       "      <td>...</td>\n",
       "      <td>...</td>\n",
       "    </tr>\n",
       "    <tr>\n",
       "      <th>8965</th>\n",
       "      <td>8965</td>\n",
       "      <td>Porsche Cayenne</td>\n",
       "      <td>95691</td>\n",
       "      <td>E-hybrid</td>\n",
       "      <td>Automatic</td>\n",
       "      <td>2022</td>\n",
       "      <td>14800</td>\n",
       "      <td>Hybrid</td>\n",
       "      <td>Porsche</td>\n",
       "      <td>Ultra-Luxury/Exotic</td>\n",
       "    </tr>\n",
       "    <tr>\n",
       "      <th>8966</th>\n",
       "      <td>8966</td>\n",
       "      <td>Porsche Cayenne</td>\n",
       "      <td>47533</td>\n",
       "      <td>Diesel / Sportdesign / Voll / 1.hd.</td>\n",
       "      <td>Automatic</td>\n",
       "      <td>2016</td>\n",
       "      <td>99870</td>\n",
       "      <td>Diesel</td>\n",
       "      <td>Porsche</td>\n",
       "      <td>Ultra-Luxury/Exotic</td>\n",
       "    </tr>\n",
       "    <tr>\n",
       "      <th>8967</th>\n",
       "      <td>8967</td>\n",
       "      <td>Porsche Cayenne</td>\n",
       "      <td>84648</td>\n",
       "      <td>Coupe E-hybrid*head-up*360°cam*panorama*</td>\n",
       "      <td>Automatic</td>\n",
       "      <td>2021</td>\n",
       "      <td>36500</td>\n",
       "      <td>Hybrid</td>\n",
       "      <td>Porsche</td>\n",
       "      <td>Ultra-Luxury/Exotic</td>\n",
       "    </tr>\n",
       "    <tr>\n",
       "      <th>8968</th>\n",
       "      <td>8968</td>\n",
       "      <td>Porsche 718</td>\n",
       "      <td>95657</td>\n",
       "      <td>Gts 4.0 2023 .6 Gang  1.hand,bose</td>\n",
       "      <td>Manual</td>\n",
       "      <td>2023</td>\n",
       "      <td>6500</td>\n",
       "      <td>Petrol</td>\n",
       "      <td>Porsche</td>\n",
       "      <td>Ultra-Luxury/Exotic</td>\n",
       "    </tr>\n",
       "    <tr>\n",
       "      <th>8969</th>\n",
       "      <td>8969</td>\n",
       "      <td>Porsche Cayenne</td>\n",
       "      <td>94771</td>\n",
       "      <td>Gts Coupe*chrono*360°cam*acc*hud*voll*</td>\n",
       "      <td>Automatic</td>\n",
       "      <td>2020</td>\n",
       "      <td>65000</td>\n",
       "      <td>Petrol</td>\n",
       "      <td>Porsche</td>\n",
       "      <td>Ultra-Luxury/Exotic</td>\n",
       "    </tr>\n",
       "  </tbody>\n",
       "</table>\n",
       "<p>8970 rows × 10 columns</p>\n",
       "</div>"
      ],
      "text/plain": [
       "      Unnamed: 0               name  price  \\\n",
       "0              0          Seat Leon  26118   \n",
       "1              1          Volvo V60  27777   \n",
       "2              2  Volkswagen Tiguan  20392   \n",
       "3              3  Volkswagen Tiguan  30967   \n",
       "4              4  Volkswagen Tiguan  22892   \n",
       "...          ...                ...    ...   \n",
       "8965        8965    Porsche Cayenne  95691   \n",
       "8966        8966    Porsche Cayenne  47533   \n",
       "8967        8967    Porsche Cayenne  84648   \n",
       "8968        8968        Porsche 718  95657   \n",
       "8969        8969    Porsche Cayenne  94771   \n",
       "\n",
       "                                    description trassmition  model  milage  \\\n",
       "0     Sportstourer 1.4 E-hybrid Fr Led Acc Navi   Automatic   2021   52080   \n",
       "1      T6 Awd Recharge Plug-in Momentum Pro Ahk   Automatic   2020  107217   \n",
       "2     2.0 Tdi Navi/sound/bmt,comfortline,1.hand      Manual   2017  123000   \n",
       "3     2.0 Tdi Highline R-line 4mo. Led+navi+acc   Automatic   2019   68100   \n",
       "4           Join Start-stopp 2hand Ahk Garantie      Manual   2018  105958   \n",
       "...                                         ...         ...    ...     ...   \n",
       "8965                                   E-hybrid   Automatic   2022   14800   \n",
       "8966        Diesel / Sportdesign / Voll / 1.hd.   Automatic   2016   99870   \n",
       "8967   Coupe E-hybrid*head-up*360°cam*panorama*   Automatic   2021   36500   \n",
       "8968          Gts 4.0 2023 .6 Gang  1.hand,bose      Manual   2023    6500   \n",
       "8969     Gts Coupe*chrono*360°cam*acc*hud*voll*   Automatic   2020   65000   \n",
       "\n",
       "        fuel       Brand              Segment  \n",
       "0     Hybrid        Seat            Low-Range  \n",
       "1     Hybrid       Volvo              Premium  \n",
       "2     Diesel  Volkswagen              Premium  \n",
       "3     Diesel  Volkswagen              Premium  \n",
       "4     Diesel  Volkswagen              Premium  \n",
       "...      ...         ...                  ...  \n",
       "8965  Hybrid     Porsche  Ultra-Luxury/Exotic  \n",
       "8966  Diesel     Porsche  Ultra-Luxury/Exotic  \n",
       "8967  Hybrid     Porsche  Ultra-Luxury/Exotic  \n",
       "8968  Petrol     Porsche  Ultra-Luxury/Exotic  \n",
       "8969  Petrol     Porsche  Ultra-Luxury/Exotic  \n",
       "\n",
       "[8970 rows x 10 columns]"
      ]
     },
     "execution_count": 5,
     "metadata": {},
     "output_type": "execute_result"
    }
   ],
   "source": [
    "cars.drop_duplicates()"
   ]
  },
  {
   "cell_type": "code",
   "execution_count": 6,
   "id": "f3271e95-f59a-4e43-aeeb-b51dc2143db0",
   "metadata": {},
   "outputs": [
    {
     "data": {
      "text/plain": [
       "Unnamed: 0      int64\n",
       "name           object\n",
       "price           int64\n",
       "description    object\n",
       "trassmition    object\n",
       "model           int64\n",
       "milage          int64\n",
       "fuel           object\n",
       "Brand          object\n",
       "Segment        object\n",
       "dtype: object"
      ]
     },
     "execution_count": 6,
     "metadata": {},
     "output_type": "execute_result"
    }
   ],
   "source": [
    "cars.dtypes"
   ]
  },
  {
   "cell_type": "markdown",
   "id": "b69a8174-744c-4ef0-9019-60cff4524ca5",
   "metadata": {},
   "source": [
    "### 2. Drop the name and S/N column"
   ]
  },
  {
   "cell_type": "code",
   "execution_count": 8,
   "id": "f088874e-2908-45b9-92c2-dcd2d0045563",
   "metadata": {},
   "outputs": [],
   "source": [
    "del cars['Unnamed: 0']"
   ]
  },
  {
   "cell_type": "code",
   "execution_count": 9,
   "id": "95aa92ab-012d-46a9-b621-c6230255b856",
   "metadata": {},
   "outputs": [],
   "source": [
    "del cars[ 'name']"
   ]
  },
  {
   "cell_type": "code",
   "execution_count": 10,
   "id": "bdf23e12-7503-4132-802b-db0a6be4f2c1",
   "metadata": {},
   "outputs": [
    {
     "data": {
      "text/plain": [
       "Index(['price', 'description', 'trassmition', 'model', 'milage', 'fuel',\n",
       "       'Brand', 'Segment'],\n",
       "      dtype='object')"
      ]
     },
     "execution_count": 10,
     "metadata": {},
     "output_type": "execute_result"
    }
   ],
   "source": [
    "cars.columns"
   ]
  },
  {
   "cell_type": "code",
   "execution_count": 11,
   "id": "b567c52b-2674-41d7-ac73-35a3400829bf",
   "metadata": {},
   "outputs": [
    {
     "data": {
      "text/html": [
       "<div>\n",
       "<style scoped>\n",
       "    .dataframe tbody tr th:only-of-type {\n",
       "        vertical-align: middle;\n",
       "    }\n",
       "\n",
       "    .dataframe tbody tr th {\n",
       "        vertical-align: top;\n",
       "    }\n",
       "\n",
       "    .dataframe thead th {\n",
       "        text-align: right;\n",
       "    }\n",
       "</style>\n",
       "<table border=\"1\" class=\"dataframe\">\n",
       "  <thead>\n",
       "    <tr style=\"text-align: right;\">\n",
       "      <th></th>\n",
       "      <th>price</th>\n",
       "      <th>description</th>\n",
       "      <th>trassmition</th>\n",
       "      <th>model</th>\n",
       "      <th>milage</th>\n",
       "      <th>fuel</th>\n",
       "      <th>Brand</th>\n",
       "      <th>Segment</th>\n",
       "    </tr>\n",
       "  </thead>\n",
       "  <tbody>\n",
       "    <tr>\n",
       "      <th>0</th>\n",
       "      <td>26118</td>\n",
       "      <td>Sportstourer 1.4 E-hybrid Fr Led Acc Navi</td>\n",
       "      <td>Automatic</td>\n",
       "      <td>2021</td>\n",
       "      <td>52080</td>\n",
       "      <td>Hybrid</td>\n",
       "      <td>Seat</td>\n",
       "      <td>Low-Range</td>\n",
       "    </tr>\n",
       "    <tr>\n",
       "      <th>1</th>\n",
       "      <td>27777</td>\n",
       "      <td>T6 Awd Recharge Plug-in Momentum Pro Ahk</td>\n",
       "      <td>Automatic</td>\n",
       "      <td>2020</td>\n",
       "      <td>107217</td>\n",
       "      <td>Hybrid</td>\n",
       "      <td>Volvo</td>\n",
       "      <td>Premium</td>\n",
       "    </tr>\n",
       "    <tr>\n",
       "      <th>2</th>\n",
       "      <td>20392</td>\n",
       "      <td>2.0 Tdi Navi/sound/bmt,comfortline,1.hand</td>\n",
       "      <td>Manual</td>\n",
       "      <td>2017</td>\n",
       "      <td>123000</td>\n",
       "      <td>Diesel</td>\n",
       "      <td>Volkswagen</td>\n",
       "      <td>Premium</td>\n",
       "    </tr>\n",
       "    <tr>\n",
       "      <th>3</th>\n",
       "      <td>30967</td>\n",
       "      <td>2.0 Tdi Highline R-line 4mo. Led+navi+acc</td>\n",
       "      <td>Automatic</td>\n",
       "      <td>2019</td>\n",
       "      <td>68100</td>\n",
       "      <td>Diesel</td>\n",
       "      <td>Volkswagen</td>\n",
       "      <td>Premium</td>\n",
       "    </tr>\n",
       "    <tr>\n",
       "      <th>4</th>\n",
       "      <td>22892</td>\n",
       "      <td>Join Start-stopp 2hand Ahk Garantie</td>\n",
       "      <td>Manual</td>\n",
       "      <td>2018</td>\n",
       "      <td>105958</td>\n",
       "      <td>Diesel</td>\n",
       "      <td>Volkswagen</td>\n",
       "      <td>Premium</td>\n",
       "    </tr>\n",
       "    <tr>\n",
       "      <th>...</th>\n",
       "      <td>...</td>\n",
       "      <td>...</td>\n",
       "      <td>...</td>\n",
       "      <td>...</td>\n",
       "      <td>...</td>\n",
       "      <td>...</td>\n",
       "      <td>...</td>\n",
       "      <td>...</td>\n",
       "    </tr>\n",
       "    <tr>\n",
       "      <th>8965</th>\n",
       "      <td>95691</td>\n",
       "      <td>E-hybrid</td>\n",
       "      <td>Automatic</td>\n",
       "      <td>2022</td>\n",
       "      <td>14800</td>\n",
       "      <td>Hybrid</td>\n",
       "      <td>Porsche</td>\n",
       "      <td>Ultra-Luxury/Exotic</td>\n",
       "    </tr>\n",
       "    <tr>\n",
       "      <th>8966</th>\n",
       "      <td>47533</td>\n",
       "      <td>Diesel / Sportdesign / Voll / 1.hd.</td>\n",
       "      <td>Automatic</td>\n",
       "      <td>2016</td>\n",
       "      <td>99870</td>\n",
       "      <td>Diesel</td>\n",
       "      <td>Porsche</td>\n",
       "      <td>Ultra-Luxury/Exotic</td>\n",
       "    </tr>\n",
       "    <tr>\n",
       "      <th>8967</th>\n",
       "      <td>84648</td>\n",
       "      <td>Coupe E-hybrid*head-up*360°cam*panorama*</td>\n",
       "      <td>Automatic</td>\n",
       "      <td>2021</td>\n",
       "      <td>36500</td>\n",
       "      <td>Hybrid</td>\n",
       "      <td>Porsche</td>\n",
       "      <td>Ultra-Luxury/Exotic</td>\n",
       "    </tr>\n",
       "    <tr>\n",
       "      <th>8968</th>\n",
       "      <td>95657</td>\n",
       "      <td>Gts 4.0 2023 .6 Gang  1.hand,bose</td>\n",
       "      <td>Manual</td>\n",
       "      <td>2023</td>\n",
       "      <td>6500</td>\n",
       "      <td>Petrol</td>\n",
       "      <td>Porsche</td>\n",
       "      <td>Ultra-Luxury/Exotic</td>\n",
       "    </tr>\n",
       "    <tr>\n",
       "      <th>8969</th>\n",
       "      <td>94771</td>\n",
       "      <td>Gts Coupe*chrono*360°cam*acc*hud*voll*</td>\n",
       "      <td>Automatic</td>\n",
       "      <td>2020</td>\n",
       "      <td>65000</td>\n",
       "      <td>Petrol</td>\n",
       "      <td>Porsche</td>\n",
       "      <td>Ultra-Luxury/Exotic</td>\n",
       "    </tr>\n",
       "  </tbody>\n",
       "</table>\n",
       "<p>8970 rows × 8 columns</p>\n",
       "</div>"
      ],
      "text/plain": [
       "      price                                description trassmition  model  \\\n",
       "0     26118  Sportstourer 1.4 E-hybrid Fr Led Acc Navi   Automatic   2021   \n",
       "1     27777   T6 Awd Recharge Plug-in Momentum Pro Ahk   Automatic   2020   \n",
       "2     20392  2.0 Tdi Navi/sound/bmt,comfortline,1.hand      Manual   2017   \n",
       "3     30967  2.0 Tdi Highline R-line 4mo. Led+navi+acc   Automatic   2019   \n",
       "4     22892        Join Start-stopp 2hand Ahk Garantie      Manual   2018   \n",
       "...     ...                                        ...         ...    ...   \n",
       "8965  95691                                   E-hybrid   Automatic   2022   \n",
       "8966  47533        Diesel / Sportdesign / Voll / 1.hd.   Automatic   2016   \n",
       "8967  84648   Coupe E-hybrid*head-up*360°cam*panorama*   Automatic   2021   \n",
       "8968  95657          Gts 4.0 2023 .6 Gang  1.hand,bose      Manual   2023   \n",
       "8969  94771     Gts Coupe*chrono*360°cam*acc*hud*voll*   Automatic   2020   \n",
       "\n",
       "      milage    fuel       Brand              Segment  \n",
       "0      52080  Hybrid        Seat            Low-Range  \n",
       "1     107217  Hybrid       Volvo              Premium  \n",
       "2     123000  Diesel  Volkswagen              Premium  \n",
       "3      68100  Diesel  Volkswagen              Premium  \n",
       "4     105958  Diesel  Volkswagen              Premium  \n",
       "...      ...     ...         ...                  ...  \n",
       "8965   14800  Hybrid     Porsche  Ultra-Luxury/Exotic  \n",
       "8966   99870  Diesel     Porsche  Ultra-Luxury/Exotic  \n",
       "8967   36500  Hybrid     Porsche  Ultra-Luxury/Exotic  \n",
       "8968    6500  Petrol     Porsche  Ultra-Luxury/Exotic  \n",
       "8969   65000  Petrol     Porsche  Ultra-Luxury/Exotic  \n",
       "\n",
       "[8970 rows x 8 columns]"
      ]
     },
     "execution_count": 11,
     "metadata": {},
     "output_type": "execute_result"
    }
   ],
   "source": [
    "cars"
   ]
  },
  {
   "cell_type": "markdown",
   "id": "51df52cc-07b4-4862-8bd6-fb296369af80",
   "metadata": {},
   "source": [
    "### 3. Rename the \"transsmition\" column to \"transmission\""
   ]
  },
  {
   "cell_type": "code",
   "execution_count": 13,
   "id": "e26b0514-b289-437d-909f-79fa7341888c",
   "metadata": {},
   "outputs": [
    {
     "data": {
      "text/html": [
       "<div>\n",
       "<style scoped>\n",
       "    .dataframe tbody tr th:only-of-type {\n",
       "        vertical-align: middle;\n",
       "    }\n",
       "\n",
       "    .dataframe tbody tr th {\n",
       "        vertical-align: top;\n",
       "    }\n",
       "\n",
       "    .dataframe thead th {\n",
       "        text-align: right;\n",
       "    }\n",
       "</style>\n",
       "<table border=\"1\" class=\"dataframe\">\n",
       "  <thead>\n",
       "    <tr style=\"text-align: right;\">\n",
       "      <th></th>\n",
       "      <th>price</th>\n",
       "      <th>description</th>\n",
       "      <th>transmition</th>\n",
       "      <th>model</th>\n",
       "      <th>milage</th>\n",
       "      <th>fuel</th>\n",
       "      <th>Brand</th>\n",
       "      <th>Segment</th>\n",
       "    </tr>\n",
       "  </thead>\n",
       "  <tbody>\n",
       "    <tr>\n",
       "      <th>0</th>\n",
       "      <td>26118</td>\n",
       "      <td>Sportstourer 1.4 E-hybrid Fr Led Acc Navi</td>\n",
       "      <td>Automatic</td>\n",
       "      <td>2021</td>\n",
       "      <td>52080</td>\n",
       "      <td>Hybrid</td>\n",
       "      <td>Seat</td>\n",
       "      <td>Low-Range</td>\n",
       "    </tr>\n",
       "    <tr>\n",
       "      <th>1</th>\n",
       "      <td>27777</td>\n",
       "      <td>T6 Awd Recharge Plug-in Momentum Pro Ahk</td>\n",
       "      <td>Automatic</td>\n",
       "      <td>2020</td>\n",
       "      <td>107217</td>\n",
       "      <td>Hybrid</td>\n",
       "      <td>Volvo</td>\n",
       "      <td>Premium</td>\n",
       "    </tr>\n",
       "    <tr>\n",
       "      <th>2</th>\n",
       "      <td>20392</td>\n",
       "      <td>2.0 Tdi Navi/sound/bmt,comfortline,1.hand</td>\n",
       "      <td>Manual</td>\n",
       "      <td>2017</td>\n",
       "      <td>123000</td>\n",
       "      <td>Diesel</td>\n",
       "      <td>Volkswagen</td>\n",
       "      <td>Premium</td>\n",
       "    </tr>\n",
       "    <tr>\n",
       "      <th>3</th>\n",
       "      <td>30967</td>\n",
       "      <td>2.0 Tdi Highline R-line 4mo. Led+navi+acc</td>\n",
       "      <td>Automatic</td>\n",
       "      <td>2019</td>\n",
       "      <td>68100</td>\n",
       "      <td>Diesel</td>\n",
       "      <td>Volkswagen</td>\n",
       "      <td>Premium</td>\n",
       "    </tr>\n",
       "    <tr>\n",
       "      <th>4</th>\n",
       "      <td>22892</td>\n",
       "      <td>Join Start-stopp 2hand Ahk Garantie</td>\n",
       "      <td>Manual</td>\n",
       "      <td>2018</td>\n",
       "      <td>105958</td>\n",
       "      <td>Diesel</td>\n",
       "      <td>Volkswagen</td>\n",
       "      <td>Premium</td>\n",
       "    </tr>\n",
       "    <tr>\n",
       "      <th>...</th>\n",
       "      <td>...</td>\n",
       "      <td>...</td>\n",
       "      <td>...</td>\n",
       "      <td>...</td>\n",
       "      <td>...</td>\n",
       "      <td>...</td>\n",
       "      <td>...</td>\n",
       "      <td>...</td>\n",
       "    </tr>\n",
       "    <tr>\n",
       "      <th>8965</th>\n",
       "      <td>95691</td>\n",
       "      <td>E-hybrid</td>\n",
       "      <td>Automatic</td>\n",
       "      <td>2022</td>\n",
       "      <td>14800</td>\n",
       "      <td>Hybrid</td>\n",
       "      <td>Porsche</td>\n",
       "      <td>Ultra-Luxury/Exotic</td>\n",
       "    </tr>\n",
       "    <tr>\n",
       "      <th>8966</th>\n",
       "      <td>47533</td>\n",
       "      <td>Diesel / Sportdesign / Voll / 1.hd.</td>\n",
       "      <td>Automatic</td>\n",
       "      <td>2016</td>\n",
       "      <td>99870</td>\n",
       "      <td>Diesel</td>\n",
       "      <td>Porsche</td>\n",
       "      <td>Ultra-Luxury/Exotic</td>\n",
       "    </tr>\n",
       "    <tr>\n",
       "      <th>8967</th>\n",
       "      <td>84648</td>\n",
       "      <td>Coupe E-hybrid*head-up*360°cam*panorama*</td>\n",
       "      <td>Automatic</td>\n",
       "      <td>2021</td>\n",
       "      <td>36500</td>\n",
       "      <td>Hybrid</td>\n",
       "      <td>Porsche</td>\n",
       "      <td>Ultra-Luxury/Exotic</td>\n",
       "    </tr>\n",
       "    <tr>\n",
       "      <th>8968</th>\n",
       "      <td>95657</td>\n",
       "      <td>Gts 4.0 2023 .6 Gang  1.hand,bose</td>\n",
       "      <td>Manual</td>\n",
       "      <td>2023</td>\n",
       "      <td>6500</td>\n",
       "      <td>Petrol</td>\n",
       "      <td>Porsche</td>\n",
       "      <td>Ultra-Luxury/Exotic</td>\n",
       "    </tr>\n",
       "    <tr>\n",
       "      <th>8969</th>\n",
       "      <td>94771</td>\n",
       "      <td>Gts Coupe*chrono*360°cam*acc*hud*voll*</td>\n",
       "      <td>Automatic</td>\n",
       "      <td>2020</td>\n",
       "      <td>65000</td>\n",
       "      <td>Petrol</td>\n",
       "      <td>Porsche</td>\n",
       "      <td>Ultra-Luxury/Exotic</td>\n",
       "    </tr>\n",
       "  </tbody>\n",
       "</table>\n",
       "<p>8970 rows × 8 columns</p>\n",
       "</div>"
      ],
      "text/plain": [
       "      price                                description transmition  model  \\\n",
       "0     26118  Sportstourer 1.4 E-hybrid Fr Led Acc Navi   Automatic   2021   \n",
       "1     27777   T6 Awd Recharge Plug-in Momentum Pro Ahk   Automatic   2020   \n",
       "2     20392  2.0 Tdi Navi/sound/bmt,comfortline,1.hand      Manual   2017   \n",
       "3     30967  2.0 Tdi Highline R-line 4mo. Led+navi+acc   Automatic   2019   \n",
       "4     22892        Join Start-stopp 2hand Ahk Garantie      Manual   2018   \n",
       "...     ...                                        ...         ...    ...   \n",
       "8965  95691                                   E-hybrid   Automatic   2022   \n",
       "8966  47533        Diesel / Sportdesign / Voll / 1.hd.   Automatic   2016   \n",
       "8967  84648   Coupe E-hybrid*head-up*360°cam*panorama*   Automatic   2021   \n",
       "8968  95657          Gts 4.0 2023 .6 Gang  1.hand,bose      Manual   2023   \n",
       "8969  94771     Gts Coupe*chrono*360°cam*acc*hud*voll*   Automatic   2020   \n",
       "\n",
       "      milage    fuel       Brand              Segment  \n",
       "0      52080  Hybrid        Seat            Low-Range  \n",
       "1     107217  Hybrid       Volvo              Premium  \n",
       "2     123000  Diesel  Volkswagen              Premium  \n",
       "3      68100  Diesel  Volkswagen              Premium  \n",
       "4     105958  Diesel  Volkswagen              Premium  \n",
       "...      ...     ...         ...                  ...  \n",
       "8965   14800  Hybrid     Porsche  Ultra-Luxury/Exotic  \n",
       "8966   99870  Diesel     Porsche  Ultra-Luxury/Exotic  \n",
       "8967   36500  Hybrid     Porsche  Ultra-Luxury/Exotic  \n",
       "8968    6500  Petrol     Porsche  Ultra-Luxury/Exotic  \n",
       "8969   65000  Petrol     Porsche  Ultra-Luxury/Exotic  \n",
       "\n",
       "[8970 rows x 8 columns]"
      ]
     },
     "execution_count": 13,
     "metadata": {},
     "output_type": "execute_result"
    }
   ],
   "source": [
    "cars.rename(columns = {\"trassmition\":\"transmition\"},inplace=True)\n",
    "cars"
   ]
  },
  {
   "cell_type": "markdown",
   "id": "35e8871e-fde3-4e96-86e1-4abe9061ccbb",
   "metadata": {},
   "source": [
    "## 4. What is the distribution of Automatic cars to manual cars? Visualise this\n"
   ]
  },
  {
   "cell_type": "code",
   "execution_count": 15,
   "id": "58347e3c-b7a7-485e-bf09-b0d069cf0a6a",
   "metadata": {},
   "outputs": [
    {
     "data": {
      "text/html": [
       "        <script type=\"text/javascript\">\n",
       "        window.PlotlyConfig = {MathJaxConfig: 'local'};\n",
       "        if (window.MathJax && window.MathJax.Hub && window.MathJax.Hub.Config) {window.MathJax.Hub.Config({SVG: {font: \"STIX-Web\"}});}\n",
       "        if (typeof require !== 'undefined') {\n",
       "        require.undef(\"plotly\");\n",
       "        requirejs.config({\n",
       "            paths: {\n",
       "                'plotly': ['https://cdn.plot.ly/plotly-2.35.2.min']\n",
       "            }\n",
       "        });\n",
       "        require(['plotly'], function(Plotly) {\n",
       "            window._Plotly = Plotly;\n",
       "        });\n",
       "        }\n",
       "        </script>\n",
       "        "
      ]
     },
     "metadata": {},
     "output_type": "display_data"
    }
   ],
   "source": [
    "from plotly.offline import init_notebook_mode\n",
    "import cufflinks as cf \n",
    "cf.go_offline()"
   ]
  },
  {
   "cell_type": "code",
   "execution_count": 16,
   "id": "b9a0fa09-6c25-4dbc-8dbe-331720f7f145",
   "metadata": {},
   "outputs": [
    {
     "data": {
      "text/html": [
       "<div>\n",
       "<style scoped>\n",
       "    .dataframe tbody tr th:only-of-type {\n",
       "        vertical-align: middle;\n",
       "    }\n",
       "\n",
       "    .dataframe tbody tr th {\n",
       "        vertical-align: top;\n",
       "    }\n",
       "\n",
       "    .dataframe thead th {\n",
       "        text-align: right;\n",
       "    }\n",
       "</style>\n",
       "<table border=\"1\" class=\"dataframe\">\n",
       "  <thead>\n",
       "    <tr style=\"text-align: right;\">\n",
       "      <th></th>\n",
       "      <th>transmition</th>\n",
       "      <th>count</th>\n",
       "    </tr>\n",
       "  </thead>\n",
       "  <tbody>\n",
       "    <tr>\n",
       "      <th>0</th>\n",
       "      <td>Automatic</td>\n",
       "      <td>6702</td>\n",
       "    </tr>\n",
       "    <tr>\n",
       "      <th>1</th>\n",
       "      <td>Manual</td>\n",
       "      <td>2268</td>\n",
       "    </tr>\n",
       "  </tbody>\n",
       "</table>\n",
       "</div>"
      ],
      "text/plain": [
       "  transmition  count\n",
       "0   Automatic   6702\n",
       "1      Manual   2268"
      ]
     },
     "execution_count": 16,
     "metadata": {},
     "output_type": "execute_result"
    }
   ],
   "source": [
    "AM = cars.value_counts(\"transmition\").reset_index()\n",
    "AM"
   ]
  },
  {
   "cell_type": "code",
   "execution_count": 17,
   "id": "ca397c7b-95ec-4ec8-a894-445332ac2692",
   "metadata": {
    "scrolled": true
   },
   "outputs": [
    {
     "data": {
      "application/vnd.plotly.v1+json": {
       "config": {
        "linkText": "Export to plot.ly",
        "plotlyServerURL": "https://plot.ly",
        "showLink": true
       },
       "data": [
        {
         "hole": 0.5,
         "labels": [
          "Automatic",
          "Manual"
         ],
         "marker": {
          "colors": [
           "rgba(255, 153, 51, 1.0)",
           "rgba(55, 128, 191, 1.0)"
          ]
         },
         "name": "",
         "type": "pie",
         "values": [
          6702,
          2268
         ]
        }
       ],
       "layout": {
        "autosize": true,
        "legend": {
         "bgcolor": "#F5F6F9",
         "font": {
          "color": "#4D5663"
         }
        },
        "paper_bgcolor": "#F5F6F9",
        "plot_bgcolor": "#F5F6F9",
        "title": {
         "font": {
          "color": "#4D5663"
         },
         "text": "DISTRIBUTION BY TRANSMITION"
        }
       }
      },
      "text/html": [
       "<div>                            <div id=\"f0e58ca8-38e6-4325-92b2-49e02171777e\" class=\"plotly-graph-div\" style=\"height:525px; width:100%;\"></div>            <script type=\"text/javascript\">                require([\"plotly\"], function(Plotly) {                    window.PLOTLYENV=window.PLOTLYENV || {};\n",
       "                    window.PLOTLYENV.BASE_URL='https://plot.ly';                                    if (document.getElementById(\"f0e58ca8-38e6-4325-92b2-49e02171777e\")) {                    Plotly.newPlot(                        \"f0e58ca8-38e6-4325-92b2-49e02171777e\",                        [{\"hole\":0.5,\"labels\":[\"Automatic\",\"Manual\"],\"marker\":{\"colors\":[\"rgba(255, 153, 51, 1.0)\",\"rgba(55, 128, 191, 1.0)\"]},\"name\":\"\",\"values\":[6702,2268],\"type\":\"pie\"}],                        {\"legend\":{\"bgcolor\":\"#F5F6F9\",\"font\":{\"color\":\"#4D5663\"}},\"paper_bgcolor\":\"#F5F6F9\",\"plot_bgcolor\":\"#F5F6F9\",\"titlefont\":{\"color\":\"#4D5663\"},\"title\":\"DISTRIBUTION BY TRANSMITION\"},                        {\"showLink\": true, \"linkText\": \"Export to plot.ly\", \"plotlyServerURL\": \"https://plot.ly\", \"responsive\": true}                    ).then(function(){\n",
       "                            \n",
       "var gd = document.getElementById('f0e58ca8-38e6-4325-92b2-49e02171777e');\n",
       "var x = new MutationObserver(function (mutations, observer) {{\n",
       "        var display = window.getComputedStyle(gd).display;\n",
       "        if (!display || display === 'none') {{\n",
       "            console.log([gd, 'removed!']);\n",
       "            Plotly.purge(gd);\n",
       "            observer.disconnect();\n",
       "        }}\n",
       "}});\n",
       "\n",
       "// Listen for the removal of the full notebook cells\n",
       "var notebookContainer = gd.closest('#notebook-container');\n",
       "if (notebookContainer) {{\n",
       "    x.observe(notebookContainer, {childList: true});\n",
       "}}\n",
       "\n",
       "// Listen for the clearing of the current output cell\n",
       "var outputEl = gd.closest('.output');\n",
       "if (outputEl) {{\n",
       "    x.observe(outputEl, {childList: true});\n",
       "}}\n",
       "\n",
       "                        })                };                });            </script>        </div>"
      ]
     },
     "metadata": {},
     "output_type": "display_data"
    }
   ],
   "source": [
    "AM.iplot(kind=\"pie\",labels=\"transmition\", values=\"count\",text=\"transmition\",hole=0.5,\n",
    "        title=\"DISTRIBUTION BY TRANSMITION\")"
   ]
  },
  {
   "cell_type": "markdown",
   "id": "5f9e0e80-3ad9-43b6-8876-013c3a26e871",
   "metadata": {},
   "source": [
    "### 5. Show the rows for used cars in 2024 from the dataset, How many are they?\n"
   ]
  },
  {
   "cell_type": "code",
   "execution_count": 19,
   "id": "9f25a8a2-c831-44e9-b211-2d8a82b220df",
   "metadata": {},
   "outputs": [
    {
     "data": {
      "text/html": [
       "<div>\n",
       "<style scoped>\n",
       "    .dataframe tbody tr th:only-of-type {\n",
       "        vertical-align: middle;\n",
       "    }\n",
       "\n",
       "    .dataframe tbody tr th {\n",
       "        vertical-align: top;\n",
       "    }\n",
       "\n",
       "    .dataframe thead th {\n",
       "        text-align: right;\n",
       "    }\n",
       "</style>\n",
       "<table border=\"1\" class=\"dataframe\">\n",
       "  <thead>\n",
       "    <tr style=\"text-align: right;\">\n",
       "      <th></th>\n",
       "      <th>Brand</th>\n",
       "      <th>model</th>\n",
       "      <th>milage</th>\n",
       "    </tr>\n",
       "  </thead>\n",
       "  <tbody>\n",
       "    <tr>\n",
       "      <th>7</th>\n",
       "      <td>Volkswagen</td>\n",
       "      <td>2024</td>\n",
       "      <td>6123</td>\n",
       "    </tr>\n",
       "    <tr>\n",
       "      <th>13</th>\n",
       "      <td>Volkswagen</td>\n",
       "      <td>2024</td>\n",
       "      <td>20</td>\n",
       "    </tr>\n",
       "    <tr>\n",
       "      <th>18</th>\n",
       "      <td>Porsche</td>\n",
       "      <td>2024</td>\n",
       "      <td>14300</td>\n",
       "    </tr>\n",
       "    <tr>\n",
       "      <th>20</th>\n",
       "      <td>Peugeot</td>\n",
       "      <td>2024</td>\n",
       "      <td>8231</td>\n",
       "    </tr>\n",
       "    <tr>\n",
       "      <th>35</th>\n",
       "      <td>Volkswagen</td>\n",
       "      <td>2024</td>\n",
       "      <td>6123</td>\n",
       "    </tr>\n",
       "    <tr>\n",
       "      <th>...</th>\n",
       "      <td>...</td>\n",
       "      <td>...</td>\n",
       "      <td>...</td>\n",
       "    </tr>\n",
       "    <tr>\n",
       "      <th>8939</th>\n",
       "      <td>Renault</td>\n",
       "      <td>2024</td>\n",
       "      <td>30</td>\n",
       "    </tr>\n",
       "    <tr>\n",
       "      <th>8940</th>\n",
       "      <td>Renault</td>\n",
       "      <td>2024</td>\n",
       "      <td>30</td>\n",
       "    </tr>\n",
       "    <tr>\n",
       "      <th>8942</th>\n",
       "      <td>Renault</td>\n",
       "      <td>2024</td>\n",
       "      <td>30</td>\n",
       "    </tr>\n",
       "    <tr>\n",
       "      <th>8948</th>\n",
       "      <td>Porsche</td>\n",
       "      <td>2024</td>\n",
       "      <td>6900</td>\n",
       "    </tr>\n",
       "    <tr>\n",
       "      <th>8949</th>\n",
       "      <td>Porsche</td>\n",
       "      <td>2024</td>\n",
       "      <td>15</td>\n",
       "    </tr>\n",
       "  </tbody>\n",
       "</table>\n",
       "<p>2443 rows × 3 columns</p>\n",
       "</div>"
      ],
      "text/plain": [
       "           Brand  model  milage\n",
       "7     Volkswagen   2024    6123\n",
       "13    Volkswagen   2024      20\n",
       "18       Porsche   2024   14300\n",
       "20       Peugeot   2024    8231\n",
       "35    Volkswagen   2024    6123\n",
       "...          ...    ...     ...\n",
       "8939     Renault   2024      30\n",
       "8940     Renault   2024      30\n",
       "8942     Renault   2024      30\n",
       "8948     Porsche   2024    6900\n",
       "8949     Porsche   2024      15\n",
       "\n",
       "[2443 rows x 3 columns]"
      ]
     },
     "execution_count": 19,
     "metadata": {},
     "output_type": "execute_result"
    }
   ],
   "source": [
    "cars.loc[(cars[\"model\"] == 2024) & (cars[\"milage\"] > 0),[\"Brand\",\"model\",\"milage\"]]"
   ]
  },
  {
   "cell_type": "markdown",
   "id": "ec148196-9648-48a2-900e-17364f08e747",
   "metadata": {},
   "source": [
    "### 6.  Remove rows permanently where the brand is \"seat\"\n"
   ]
  },
  {
   "cell_type": "code",
   "execution_count": 21,
   "id": "d490cb52-dac0-4020-a031-bc07862a3a7b",
   "metadata": {},
   "outputs": [
    {
     "data": {
      "text/plain": [
       "Brand\n",
       "Volkswagen       1836\n",
       "Skoda            1016\n",
       "Mercedes-benz     931\n",
       "Audi              663\n",
       "Ford              597\n",
       "Bmw               493\n",
       "Opel              447\n",
       "Hyundai           361\n",
       "Peugeot           342\n",
       "Volvo             282\n",
       "Toyota            260\n",
       "Kia               227\n",
       "Suzuki            177\n",
       "Seat              159\n",
       "Renault           142\n",
       "Smart             105\n",
       "Nissan             98\n",
       "Dacia              93\n",
       "Porsche            82\n",
       "Fiat               79\n",
       "Land               77\n",
       "Mini               70\n",
       "Citroen            62\n",
       "Mazda              56\n",
       "Jeep               54\n",
       "Mitsubishi         53\n",
       "Tesla              40\n",
       "Cupra              24\n",
       "Jaguar             22\n",
       "Alfa               18\n",
       "Subaru             17\n",
       "Ssangyong          16\n",
       "Honda              13\n",
       "Chevrolet           8\n",
       "Maserati            7\n",
       "Ferrari             6\n",
       "Bentley             5\n",
       "Aston               5\n",
       "Abarth              5\n",
       "Cadillac            4\n",
       "Lamborghini         4\n",
       "Ds                  2\n",
       "Mg                  2\n",
       "Morgan              2\n",
       "Mclaren             1\n",
       "Polestar            1\n",
       "Lotus               1\n",
       "Rolls-royce         1\n",
       "Alpina              1\n",
       "Dodge               1\n",
       "Lexus               1\n",
       "Lynk                1\n",
       "Name: count, dtype: int64"
      ]
     },
     "execution_count": 21,
     "metadata": {},
     "output_type": "execute_result"
    }
   ],
   "source": [
    "cars[\"Brand\"].value_counts()"
   ]
  },
  {
   "cell_type": "code",
   "execution_count": 22,
   "id": "d176627a-1042-4746-9d7d-23bd4ce409f5",
   "metadata": {
    "scrolled": true
   },
   "outputs": [
    {
     "data": {
      "text/html": [
       "<div>\n",
       "<style scoped>\n",
       "    .dataframe tbody tr th:only-of-type {\n",
       "        vertical-align: middle;\n",
       "    }\n",
       "\n",
       "    .dataframe tbody tr th {\n",
       "        vertical-align: top;\n",
       "    }\n",
       "\n",
       "    .dataframe thead th {\n",
       "        text-align: right;\n",
       "    }\n",
       "</style>\n",
       "<table border=\"1\" class=\"dataframe\">\n",
       "  <thead>\n",
       "    <tr style=\"text-align: right;\">\n",
       "      <th></th>\n",
       "      <th>price</th>\n",
       "      <th>description</th>\n",
       "      <th>transmition</th>\n",
       "      <th>model</th>\n",
       "      <th>milage</th>\n",
       "      <th>fuel</th>\n",
       "      <th>Brand</th>\n",
       "      <th>Segment</th>\n",
       "    </tr>\n",
       "  </thead>\n",
       "  <tbody>\n",
       "    <tr>\n",
       "      <th>1</th>\n",
       "      <td>27777</td>\n",
       "      <td>T6 Awd Recharge Plug-in Momentum Pro Ahk</td>\n",
       "      <td>Automatic</td>\n",
       "      <td>2020</td>\n",
       "      <td>107217</td>\n",
       "      <td>Hybrid</td>\n",
       "      <td>Volvo</td>\n",
       "      <td>Premium</td>\n",
       "    </tr>\n",
       "    <tr>\n",
       "      <th>2</th>\n",
       "      <td>20392</td>\n",
       "      <td>2.0 Tdi Navi/sound/bmt,comfortline,1.hand</td>\n",
       "      <td>Manual</td>\n",
       "      <td>2017</td>\n",
       "      <td>123000</td>\n",
       "      <td>Diesel</td>\n",
       "      <td>Volkswagen</td>\n",
       "      <td>Premium</td>\n",
       "    </tr>\n",
       "    <tr>\n",
       "      <th>3</th>\n",
       "      <td>30967</td>\n",
       "      <td>2.0 Tdi Highline R-line 4mo. Led+navi+acc</td>\n",
       "      <td>Automatic</td>\n",
       "      <td>2019</td>\n",
       "      <td>68100</td>\n",
       "      <td>Diesel</td>\n",
       "      <td>Volkswagen</td>\n",
       "      <td>Premium</td>\n",
       "    </tr>\n",
       "    <tr>\n",
       "      <th>4</th>\n",
       "      <td>22892</td>\n",
       "      <td>Join Start-stopp 2hand Ahk Garantie</td>\n",
       "      <td>Manual</td>\n",
       "      <td>2018</td>\n",
       "      <td>105958</td>\n",
       "      <td>Diesel</td>\n",
       "      <td>Volkswagen</td>\n",
       "      <td>Premium</td>\n",
       "    </tr>\n",
       "    <tr>\n",
       "      <th>5</th>\n",
       "      <td>26760</td>\n",
       "      <td>2.0 Tdi/matrix/4motion/ambiente/200ps</td>\n",
       "      <td>Automatic</td>\n",
       "      <td>2021</td>\n",
       "      <td>127000</td>\n",
       "      <td>Diesel</td>\n",
       "      <td>Volkswagen</td>\n",
       "      <td>Premium</td>\n",
       "    </tr>\n",
       "    <tr>\n",
       "      <th>...</th>\n",
       "      <td>...</td>\n",
       "      <td>...</td>\n",
       "      <td>...</td>\n",
       "      <td>...</td>\n",
       "      <td>...</td>\n",
       "      <td>...</td>\n",
       "      <td>...</td>\n",
       "      <td>...</td>\n",
       "    </tr>\n",
       "    <tr>\n",
       "      <th>8965</th>\n",
       "      <td>95691</td>\n",
       "      <td>E-hybrid</td>\n",
       "      <td>Automatic</td>\n",
       "      <td>2022</td>\n",
       "      <td>14800</td>\n",
       "      <td>Hybrid</td>\n",
       "      <td>Porsche</td>\n",
       "      <td>Ultra-Luxury/Exotic</td>\n",
       "    </tr>\n",
       "    <tr>\n",
       "      <th>8966</th>\n",
       "      <td>47533</td>\n",
       "      <td>Diesel / Sportdesign / Voll / 1.hd.</td>\n",
       "      <td>Automatic</td>\n",
       "      <td>2016</td>\n",
       "      <td>99870</td>\n",
       "      <td>Diesel</td>\n",
       "      <td>Porsche</td>\n",
       "      <td>Ultra-Luxury/Exotic</td>\n",
       "    </tr>\n",
       "    <tr>\n",
       "      <th>8967</th>\n",
       "      <td>84648</td>\n",
       "      <td>Coupe E-hybrid*head-up*360°cam*panorama*</td>\n",
       "      <td>Automatic</td>\n",
       "      <td>2021</td>\n",
       "      <td>36500</td>\n",
       "      <td>Hybrid</td>\n",
       "      <td>Porsche</td>\n",
       "      <td>Ultra-Luxury/Exotic</td>\n",
       "    </tr>\n",
       "    <tr>\n",
       "      <th>8968</th>\n",
       "      <td>95657</td>\n",
       "      <td>Gts 4.0 2023 .6 Gang  1.hand,bose</td>\n",
       "      <td>Manual</td>\n",
       "      <td>2023</td>\n",
       "      <td>6500</td>\n",
       "      <td>Petrol</td>\n",
       "      <td>Porsche</td>\n",
       "      <td>Ultra-Luxury/Exotic</td>\n",
       "    </tr>\n",
       "    <tr>\n",
       "      <th>8969</th>\n",
       "      <td>94771</td>\n",
       "      <td>Gts Coupe*chrono*360°cam*acc*hud*voll*</td>\n",
       "      <td>Automatic</td>\n",
       "      <td>2020</td>\n",
       "      <td>65000</td>\n",
       "      <td>Petrol</td>\n",
       "      <td>Porsche</td>\n",
       "      <td>Ultra-Luxury/Exotic</td>\n",
       "    </tr>\n",
       "  </tbody>\n",
       "</table>\n",
       "<p>8811 rows × 8 columns</p>\n",
       "</div>"
      ],
      "text/plain": [
       "      price                                description transmition  model  \\\n",
       "1     27777   T6 Awd Recharge Plug-in Momentum Pro Ahk   Automatic   2020   \n",
       "2     20392  2.0 Tdi Navi/sound/bmt,comfortline,1.hand      Manual   2017   \n",
       "3     30967  2.0 Tdi Highline R-line 4mo. Led+navi+acc   Automatic   2019   \n",
       "4     22892        Join Start-stopp 2hand Ahk Garantie      Manual   2018   \n",
       "5     26760      2.0 Tdi/matrix/4motion/ambiente/200ps   Automatic   2021   \n",
       "...     ...                                        ...         ...    ...   \n",
       "8965  95691                                   E-hybrid   Automatic   2022   \n",
       "8966  47533        Diesel / Sportdesign / Voll / 1.hd.   Automatic   2016   \n",
       "8967  84648   Coupe E-hybrid*head-up*360°cam*panorama*   Automatic   2021   \n",
       "8968  95657          Gts 4.0 2023 .6 Gang  1.hand,bose      Manual   2023   \n",
       "8969  94771     Gts Coupe*chrono*360°cam*acc*hud*voll*   Automatic   2020   \n",
       "\n",
       "      milage    fuel       Brand              Segment  \n",
       "1     107217  Hybrid       Volvo              Premium  \n",
       "2     123000  Diesel  Volkswagen              Premium  \n",
       "3      68100  Diesel  Volkswagen              Premium  \n",
       "4     105958  Diesel  Volkswagen              Premium  \n",
       "5     127000  Diesel  Volkswagen              Premium  \n",
       "...      ...     ...         ...                  ...  \n",
       "8965   14800  Hybrid     Porsche  Ultra-Luxury/Exotic  \n",
       "8966   99870  Diesel     Porsche  Ultra-Luxury/Exotic  \n",
       "8967   36500  Hybrid     Porsche  Ultra-Luxury/Exotic  \n",
       "8968    6500  Petrol     Porsche  Ultra-Luxury/Exotic  \n",
       "8969   65000  Petrol     Porsche  Ultra-Luxury/Exotic  \n",
       "\n",
       "[8811 rows x 8 columns]"
      ]
     },
     "execution_count": 22,
     "metadata": {},
     "output_type": "execute_result"
    }
   ],
   "source": [
    "cars = cars[cars[\"Brand\"] != \"Seat\"]\n",
    "cars"
   ]
  },
  {
   "cell_type": "markdown",
   "id": "6e97ae6d-247f-4d5e-840f-d37f27d995ac",
   "metadata": {},
   "source": [
    "### 7. In 2024, what brand has the highest total price?"
   ]
  },
  {
   "cell_type": "code",
   "execution_count": 24,
   "id": "b4695367-682f-4dfc-b0e5-04832912d76a",
   "metadata": {},
   "outputs": [
    {
     "data": {
      "text/plain": [
       "Brand\n",
       "Volkswagen    28324557\n",
       "Name: price, dtype: int64"
      ]
     },
     "execution_count": 24,
     "metadata": {},
     "output_type": "execute_result"
    }
   ],
   "source": [
    "c=cars.groupby([\"model\" , \"Brand\"])[ \"price\"].sum().loc[2024].nlargest(1)\n",
    "c"
   ]
  },
  {
   "cell_type": "markdown",
   "id": "e2e434de-c4d8-4e71-a4e9-831c4d48a64f",
   "metadata": {},
   "source": [
    "### 8. Show the different unique brands of cars"
   ]
  },
  {
   "cell_type": "code",
   "execution_count": 26,
   "id": "396eb41f-4c96-43ea-8066-2f27bdddec8c",
   "metadata": {},
   "outputs": [
    {
     "data": {
      "text/plain": [
       "array(['Volvo', 'Volkswagen', 'Toyota', 'Renault', 'Porsche', 'Peugeot',\n",
       "       'Mini', 'Mercedes-benz', 'Hyundai', 'Fiat', 'Dacia', 'Citroen',\n",
       "       'Bmw', 'Audi', 'Nissan', 'Land', 'Suzuki', 'Smart', 'Tesla',\n",
       "       'Skoda', 'Ssangyong', 'Opel', 'Mitsubishi', 'Mazda', 'Maserati',\n",
       "       'Lotus', 'Lexus', 'Lamborghini', 'Kia', 'Jeep', 'Jaguar', 'Honda',\n",
       "       'Ford', 'Ferrari', 'Ds', 'Dodge', 'Cupra', 'Chevrolet', 'Cadillac',\n",
       "       'Bentley', 'Aston', 'Alpina', 'Alfa', 'Abarth', 'Rolls-royce',\n",
       "       'Polestar', 'Morgan', 'Mg', 'Subaru', 'Mclaren', 'Lynk'],\n",
       "      dtype=object)"
      ]
     },
     "execution_count": 26,
     "metadata": {},
     "output_type": "execute_result"
    }
   ],
   "source": [
    "cars[\"Brand\"].unique()"
   ]
  },
  {
   "cell_type": "markdown",
   "id": "a6c6504e-0461-4ce3-932c-8532f60bc3f3",
   "metadata": {},
   "source": [
    "### 9. What brand of car has the highest total price?"
   ]
  },
  {
   "cell_type": "code",
   "execution_count": 28,
   "id": "1feddb58-fcb2-4c40-8d92-444a3600ca80",
   "metadata": {},
   "outputs": [
    {
     "data": {
      "text/plain": [
       "Brand\n",
       "Volkswagen    60608535\n",
       "Name: price, dtype: int64"
      ]
     },
     "execution_count": 28,
     "metadata": {},
     "output_type": "execute_result"
    }
   ],
   "source": [
    "cars.groupby([ \"Brand\"])[ \"price\"].sum().nlargest(1)"
   ]
  },
  {
   "cell_type": "markdown",
   "id": "e0131586-e367-4356-957f-5cfabe38bcb7",
   "metadata": {},
   "source": [
    "### 10 Visulaise the distribution of the car mileage using plotly"
   ]
  },
  {
   "cell_type": "code",
   "execution_count": 30,
   "id": "f2f082db-44f5-4f92-a4bc-39ed4fc3d6c8",
   "metadata": {},
   "outputs": [],
   "source": [
    "B=cars.groupby([\"Brand\"])[\"milage\"].sum().reset_index()"
   ]
  },
  {
   "cell_type": "code",
   "execution_count": 31,
   "id": "112e122a-1089-4aac-9eea-1122bbb3e7c0",
   "metadata": {},
   "outputs": [
    {
     "data": {
      "application/vnd.plotly.v1+json": {
       "config": {
        "linkText": "Export to plot.ly",
        "plotlyServerURL": "https://plot.ly",
        "showLink": true
       },
       "data": [
        {
         "marker": {
          "color": "rgba(55, 128, 191, 0.6)",
          "line": {
           "color": "rgba(55, 128, 191, 1.0)",
           "width": 1
          }
         },
         "name": "milage",
         "orientation": "v",
         "text": [
          150590,
          625611,
          11795,
          69144,
          35408070,
          382678,
          29789316,
          297166,
          276030,
          1777419,
          226811,
          3301099,
          61200,
          137324,
          31874,
          2257336,
          23819181,
          690967,
          10813791,
          1793643,
          2516169,
          5589920,
          49574,
          3961517,
          10,
          330,
          70000,
          494948,
          2166727,
          17,
          47616110,
          23940,
          3233535,
          2087432,
          17900,
          3735066,
          23340147,
          11040219,
          99000,
          3520856,
          6449495,
          1429,
          28616484,
          3465253,
          940836,
          489031,
          5910120,
          2142522,
          7887139,
          73688881,
          15582112
         ],
         "type": "bar",
         "x": [
          "Abarth",
          "Alfa",
          "Alpina",
          "Aston",
          "Audi",
          "Bentley",
          "Bmw",
          "Cadillac",
          "Chevrolet",
          "Citroen",
          "Cupra",
          "Dacia",
          "Dodge",
          "Ds",
          "Ferrari",
          "Fiat",
          "Ford",
          "Honda",
          "Hyundai",
          "Jaguar",
          "Jeep",
          "Kia",
          "Lamborghini",
          "Land",
          "Lexus",
          "Lotus",
          "Lynk",
          "Maserati",
          "Mazda",
          "Mclaren",
          "Mercedes-benz",
          "Mg",
          "Mini",
          "Mitsubishi",
          "Morgan",
          "Nissan",
          "Opel",
          "Peugeot",
          "Polestar",
          "Porsche",
          "Renault",
          "Rolls-royce",
          "Skoda",
          "Smart",
          "Ssangyong",
          "Subaru",
          "Suzuki",
          "Tesla",
          "Toyota",
          "Volkswagen",
          "Volvo"
         ],
         "y": [
          150590,
          625611,
          11795,
          69144,
          35408070,
          382678,
          29789316,
          297166,
          276030,
          1777419,
          226811,
          3301099,
          61200,
          137324,
          31874,
          2257336,
          23819181,
          690967,
          10813791,
          1793643,
          2516169,
          5589920,
          49574,
          3961517,
          10,
          330,
          70000,
          494948,
          2166727,
          17,
          47616110,
          23940,
          3233535,
          2087432,
          17900,
          3735066,
          23340147,
          11040219,
          99000,
          3520856,
          6449495,
          1429,
          28616484,
          3465253,
          940836,
          489031,
          5910120,
          2142522,
          7887139,
          73688881,
          15582112
         ]
        }
       ],
       "layout": {
        "autosize": true,
        "legend": {
         "bgcolor": "#F5F6F9",
         "font": {
          "color": "#4D5663"
         }
        },
        "paper_bgcolor": "#F5F6F9",
        "plot_bgcolor": "#F5F6F9",
        "template": {
         "data": {
          "bar": [
           {
            "error_x": {
             "color": "#2a3f5f"
            },
            "error_y": {
             "color": "#2a3f5f"
            },
            "marker": {
             "line": {
              "color": "#E5ECF6",
              "width": 0.5
             },
             "pattern": {
              "fillmode": "overlay",
              "size": 10,
              "solidity": 0.2
             }
            },
            "type": "bar"
           }
          ],
          "barpolar": [
           {
            "marker": {
             "line": {
              "color": "#E5ECF6",
              "width": 0.5
             },
             "pattern": {
              "fillmode": "overlay",
              "size": 10,
              "solidity": 0.2
             }
            },
            "type": "barpolar"
           }
          ],
          "carpet": [
           {
            "aaxis": {
             "endlinecolor": "#2a3f5f",
             "gridcolor": "white",
             "linecolor": "white",
             "minorgridcolor": "white",
             "startlinecolor": "#2a3f5f"
            },
            "baxis": {
             "endlinecolor": "#2a3f5f",
             "gridcolor": "white",
             "linecolor": "white",
             "minorgridcolor": "white",
             "startlinecolor": "#2a3f5f"
            },
            "type": "carpet"
           }
          ],
          "choropleth": [
           {
            "colorbar": {
             "outlinewidth": 0,
             "ticks": ""
            },
            "type": "choropleth"
           }
          ],
          "contour": [
           {
            "colorbar": {
             "outlinewidth": 0,
             "ticks": ""
            },
            "colorscale": [
             [
              0,
              "#0d0887"
             ],
             [
              0.1111111111111111,
              "#46039f"
             ],
             [
              0.2222222222222222,
              "#7201a8"
             ],
             [
              0.3333333333333333,
              "#9c179e"
             ],
             [
              0.4444444444444444,
              "#bd3786"
             ],
             [
              0.5555555555555556,
              "#d8576b"
             ],
             [
              0.6666666666666666,
              "#ed7953"
             ],
             [
              0.7777777777777778,
              "#fb9f3a"
             ],
             [
              0.8888888888888888,
              "#fdca26"
             ],
             [
              1,
              "#f0f921"
             ]
            ],
            "type": "contour"
           }
          ],
          "contourcarpet": [
           {
            "colorbar": {
             "outlinewidth": 0,
             "ticks": ""
            },
            "type": "contourcarpet"
           }
          ],
          "heatmap": [
           {
            "colorbar": {
             "outlinewidth": 0,
             "ticks": ""
            },
            "colorscale": [
             [
              0,
              "#0d0887"
             ],
             [
              0.1111111111111111,
              "#46039f"
             ],
             [
              0.2222222222222222,
              "#7201a8"
             ],
             [
              0.3333333333333333,
              "#9c179e"
             ],
             [
              0.4444444444444444,
              "#bd3786"
             ],
             [
              0.5555555555555556,
              "#d8576b"
             ],
             [
              0.6666666666666666,
              "#ed7953"
             ],
             [
              0.7777777777777778,
              "#fb9f3a"
             ],
             [
              0.8888888888888888,
              "#fdca26"
             ],
             [
              1,
              "#f0f921"
             ]
            ],
            "type": "heatmap"
           }
          ],
          "heatmapgl": [
           {
            "colorbar": {
             "outlinewidth": 0,
             "ticks": ""
            },
            "colorscale": [
             [
              0,
              "#0d0887"
             ],
             [
              0.1111111111111111,
              "#46039f"
             ],
             [
              0.2222222222222222,
              "#7201a8"
             ],
             [
              0.3333333333333333,
              "#9c179e"
             ],
             [
              0.4444444444444444,
              "#bd3786"
             ],
             [
              0.5555555555555556,
              "#d8576b"
             ],
             [
              0.6666666666666666,
              "#ed7953"
             ],
             [
              0.7777777777777778,
              "#fb9f3a"
             ],
             [
              0.8888888888888888,
              "#fdca26"
             ],
             [
              1,
              "#f0f921"
             ]
            ],
            "type": "heatmapgl"
           }
          ],
          "histogram": [
           {
            "marker": {
             "pattern": {
              "fillmode": "overlay",
              "size": 10,
              "solidity": 0.2
             }
            },
            "type": "histogram"
           }
          ],
          "histogram2d": [
           {
            "colorbar": {
             "outlinewidth": 0,
             "ticks": ""
            },
            "colorscale": [
             [
              0,
              "#0d0887"
             ],
             [
              0.1111111111111111,
              "#46039f"
             ],
             [
              0.2222222222222222,
              "#7201a8"
             ],
             [
              0.3333333333333333,
              "#9c179e"
             ],
             [
              0.4444444444444444,
              "#bd3786"
             ],
             [
              0.5555555555555556,
              "#d8576b"
             ],
             [
              0.6666666666666666,
              "#ed7953"
             ],
             [
              0.7777777777777778,
              "#fb9f3a"
             ],
             [
              0.8888888888888888,
              "#fdca26"
             ],
             [
              1,
              "#f0f921"
             ]
            ],
            "type": "histogram2d"
           }
          ],
          "histogram2dcontour": [
           {
            "colorbar": {
             "outlinewidth": 0,
             "ticks": ""
            },
            "colorscale": [
             [
              0,
              "#0d0887"
             ],
             [
              0.1111111111111111,
              "#46039f"
             ],
             [
              0.2222222222222222,
              "#7201a8"
             ],
             [
              0.3333333333333333,
              "#9c179e"
             ],
             [
              0.4444444444444444,
              "#bd3786"
             ],
             [
              0.5555555555555556,
              "#d8576b"
             ],
             [
              0.6666666666666666,
              "#ed7953"
             ],
             [
              0.7777777777777778,
              "#fb9f3a"
             ],
             [
              0.8888888888888888,
              "#fdca26"
             ],
             [
              1,
              "#f0f921"
             ]
            ],
            "type": "histogram2dcontour"
           }
          ],
          "mesh3d": [
           {
            "colorbar": {
             "outlinewidth": 0,
             "ticks": ""
            },
            "type": "mesh3d"
           }
          ],
          "parcoords": [
           {
            "line": {
             "colorbar": {
              "outlinewidth": 0,
              "ticks": ""
             }
            },
            "type": "parcoords"
           }
          ],
          "pie": [
           {
            "automargin": true,
            "type": "pie"
           }
          ],
          "scatter": [
           {
            "fillpattern": {
             "fillmode": "overlay",
             "size": 10,
             "solidity": 0.2
            },
            "type": "scatter"
           }
          ],
          "scatter3d": [
           {
            "line": {
             "colorbar": {
              "outlinewidth": 0,
              "ticks": ""
             }
            },
            "marker": {
             "colorbar": {
              "outlinewidth": 0,
              "ticks": ""
             }
            },
            "type": "scatter3d"
           }
          ],
          "scattercarpet": [
           {
            "marker": {
             "colorbar": {
              "outlinewidth": 0,
              "ticks": ""
             }
            },
            "type": "scattercarpet"
           }
          ],
          "scattergeo": [
           {
            "marker": {
             "colorbar": {
              "outlinewidth": 0,
              "ticks": ""
             }
            },
            "type": "scattergeo"
           }
          ],
          "scattergl": [
           {
            "marker": {
             "colorbar": {
              "outlinewidth": 0,
              "ticks": ""
             }
            },
            "type": "scattergl"
           }
          ],
          "scattermapbox": [
           {
            "marker": {
             "colorbar": {
              "outlinewidth": 0,
              "ticks": ""
             }
            },
            "type": "scattermapbox"
           }
          ],
          "scatterpolar": [
           {
            "marker": {
             "colorbar": {
              "outlinewidth": 0,
              "ticks": ""
             }
            },
            "type": "scatterpolar"
           }
          ],
          "scatterpolargl": [
           {
            "marker": {
             "colorbar": {
              "outlinewidth": 0,
              "ticks": ""
             }
            },
            "type": "scatterpolargl"
           }
          ],
          "scatterternary": [
           {
            "marker": {
             "colorbar": {
              "outlinewidth": 0,
              "ticks": ""
             }
            },
            "type": "scatterternary"
           }
          ],
          "surface": [
           {
            "colorbar": {
             "outlinewidth": 0,
             "ticks": ""
            },
            "colorscale": [
             [
              0,
              "#0d0887"
             ],
             [
              0.1111111111111111,
              "#46039f"
             ],
             [
              0.2222222222222222,
              "#7201a8"
             ],
             [
              0.3333333333333333,
              "#9c179e"
             ],
             [
              0.4444444444444444,
              "#bd3786"
             ],
             [
              0.5555555555555556,
              "#d8576b"
             ],
             [
              0.6666666666666666,
              "#ed7953"
             ],
             [
              0.7777777777777778,
              "#fb9f3a"
             ],
             [
              0.8888888888888888,
              "#fdca26"
             ],
             [
              1,
              "#f0f921"
             ]
            ],
            "type": "surface"
           }
          ],
          "table": [
           {
            "cells": {
             "fill": {
              "color": "#EBF0F8"
             },
             "line": {
              "color": "white"
             }
            },
            "header": {
             "fill": {
              "color": "#C8D4E3"
             },
             "line": {
              "color": "white"
             }
            },
            "type": "table"
           }
          ]
         },
         "layout": {
          "annotationdefaults": {
           "arrowcolor": "#2a3f5f",
           "arrowhead": 0,
           "arrowwidth": 1
          },
          "autotypenumbers": "strict",
          "coloraxis": {
           "colorbar": {
            "outlinewidth": 0,
            "ticks": ""
           }
          },
          "colorscale": {
           "diverging": [
            [
             0,
             "#8e0152"
            ],
            [
             0.1,
             "#c51b7d"
            ],
            [
             0.2,
             "#de77ae"
            ],
            [
             0.3,
             "#f1b6da"
            ],
            [
             0.4,
             "#fde0ef"
            ],
            [
             0.5,
             "#f7f7f7"
            ],
            [
             0.6,
             "#e6f5d0"
            ],
            [
             0.7,
             "#b8e186"
            ],
            [
             0.8,
             "#7fbc41"
            ],
            [
             0.9,
             "#4d9221"
            ],
            [
             1,
             "#276419"
            ]
           ],
           "sequential": [
            [
             0,
             "#0d0887"
            ],
            [
             0.1111111111111111,
             "#46039f"
            ],
            [
             0.2222222222222222,
             "#7201a8"
            ],
            [
             0.3333333333333333,
             "#9c179e"
            ],
            [
             0.4444444444444444,
             "#bd3786"
            ],
            [
             0.5555555555555556,
             "#d8576b"
            ],
            [
             0.6666666666666666,
             "#ed7953"
            ],
            [
             0.7777777777777778,
             "#fb9f3a"
            ],
            [
             0.8888888888888888,
             "#fdca26"
            ],
            [
             1,
             "#f0f921"
            ]
           ],
           "sequentialminus": [
            [
             0,
             "#0d0887"
            ],
            [
             0.1111111111111111,
             "#46039f"
            ],
            [
             0.2222222222222222,
             "#7201a8"
            ],
            [
             0.3333333333333333,
             "#9c179e"
            ],
            [
             0.4444444444444444,
             "#bd3786"
            ],
            [
             0.5555555555555556,
             "#d8576b"
            ],
            [
             0.6666666666666666,
             "#ed7953"
            ],
            [
             0.7777777777777778,
             "#fb9f3a"
            ],
            [
             0.8888888888888888,
             "#fdca26"
            ],
            [
             1,
             "#f0f921"
            ]
           ]
          },
          "colorway": [
           "#636efa",
           "#EF553B",
           "#00cc96",
           "#ab63fa",
           "#FFA15A",
           "#19d3f3",
           "#FF6692",
           "#B6E880",
           "#FF97FF",
           "#FECB52"
          ],
          "font": {
           "color": "#2a3f5f"
          },
          "geo": {
           "bgcolor": "white",
           "lakecolor": "white",
           "landcolor": "#E5ECF6",
           "showlakes": true,
           "showland": true,
           "subunitcolor": "white"
          },
          "hoverlabel": {
           "align": "left"
          },
          "hovermode": "closest",
          "mapbox": {
           "style": "light"
          },
          "paper_bgcolor": "white",
          "plot_bgcolor": "#E5ECF6",
          "polar": {
           "angularaxis": {
            "gridcolor": "white",
            "linecolor": "white",
            "ticks": ""
           },
           "bgcolor": "#E5ECF6",
           "radialaxis": {
            "gridcolor": "white",
            "linecolor": "white",
            "ticks": ""
           }
          },
          "scene": {
           "xaxis": {
            "backgroundcolor": "#E5ECF6",
            "gridcolor": "white",
            "gridwidth": 2,
            "linecolor": "white",
            "showbackground": true,
            "ticks": "",
            "zerolinecolor": "white"
           },
           "yaxis": {
            "backgroundcolor": "#E5ECF6",
            "gridcolor": "white",
            "gridwidth": 2,
            "linecolor": "white",
            "showbackground": true,
            "ticks": "",
            "zerolinecolor": "white"
           },
           "zaxis": {
            "backgroundcolor": "#E5ECF6",
            "gridcolor": "white",
            "gridwidth": 2,
            "linecolor": "white",
            "showbackground": true,
            "ticks": "",
            "zerolinecolor": "white"
           }
          },
          "shapedefaults": {
           "line": {
            "color": "#2a3f5f"
           }
          },
          "ternary": {
           "aaxis": {
            "gridcolor": "white",
            "linecolor": "white",
            "ticks": ""
           },
           "baxis": {
            "gridcolor": "white",
            "linecolor": "white",
            "ticks": ""
           },
           "bgcolor": "#E5ECF6",
           "caxis": {
            "gridcolor": "white",
            "linecolor": "white",
            "ticks": ""
           }
          },
          "title": {
           "x": 0.05
          },
          "xaxis": {
           "automargin": true,
           "gridcolor": "white",
           "linecolor": "white",
           "ticks": "",
           "title": {
            "standoff": 15
           },
           "zerolinecolor": "white",
           "zerolinewidth": 2
          },
          "yaxis": {
           "automargin": true,
           "gridcolor": "white",
           "linecolor": "white",
           "ticks": "",
           "title": {
            "standoff": 15
           },
           "zerolinecolor": "white",
           "zerolinewidth": 2
          }
         }
        },
        "title": {
         "font": {
          "color": "#4D5663"
         },
         "text": "TOTAL MILAGE"
        },
        "xaxis": {
         "autorange": true,
         "gridcolor": "#E1E5ED",
         "range": [
          -0.5,
          50.5
         ],
         "showgrid": true,
         "tickfont": {
          "color": "#4D5663"
         },
         "title": {
          "font": {
           "color": "#4D5663"
          },
          "text": "BRAND"
         },
         "type": "category",
         "zerolinecolor": "#E1E5ED"
        },
        "yaxis": {
         "autorange": true,
         "gridcolor": "#E1E5ED",
         "range": [
          0,
          77567243.15789473
         ],
         "showgrid": true,
         "tickfont": {
          "color": "#4D5663"
         },
         "title": {
          "font": {
           "color": "#4D5663"
          },
          "text": "MILAGE"
         },
         "type": "linear",
         "zerolinecolor": "#E1E5ED"
        }
       }
      },
      "image/png": "[encoded data removed]",
      "text/html": [
       "<div>                            <div id=\"ad8c75bc-b431-4d4c-9220-c9c93122c40a\" class=\"plotly-graph-div\" style=\"height:525px; width:100%;\"></div>            <script type=\"text/javascript\">                require([\"plotly\"], function(Plotly) {                    window.PLOTLYENV=window.PLOTLYENV || {};\n",
       "                    window.PLOTLYENV.BASE_URL='https://plot.ly';                                    if (document.getElementById(\"ad8c75bc-b431-4d4c-9220-c9c93122c40a\")) {                    Plotly.newPlot(                        \"ad8c75bc-b431-4d4c-9220-c9c93122c40a\",                        [{\"marker\":{\"color\":\"rgba(55, 128, 191, 0.6)\",\"line\":{\"color\":\"rgba(55, 128, 191, 1.0)\",\"width\":1}},\"name\":\"milage\",\"orientation\":\"v\",\"text\":[150590.0,625611.0,11795.0,69144.0,35408070.0,382678.0,29789316.0,297166.0,276030.0,1777419.0,226811.0,3301099.0,61200.0,137324.0,31874.0,2257336.0,23819181.0,690967.0,10813791.0,1793643.0,2516169.0,5589920.0,49574.0,3961517.0,10.0,330.0,70000.0,494948.0,2166727.0,17.0,47616110.0,23940.0,3233535.0,2087432.0,17900.0,3735066.0,23340147.0,11040219.0,99000.0,3520856.0,6449495.0,1429.0,28616484.0,3465253.0,940836.0,489031.0,5910120.0,2142522.0,7887139.0,73688881.0,15582112.0],\"x\":[\"Abarth\",\"Alfa\",\"Alpina\",\"Aston\",\"Audi\",\"Bentley\",\"Bmw\",\"Cadillac\",\"Chevrolet\",\"Citroen\",\"Cupra\",\"Dacia\",\"Dodge\",\"Ds\",\"Ferrari\",\"Fiat\",\"Ford\",\"Honda\",\"Hyundai\",\"Jaguar\",\"Jeep\",\"Kia\",\"Lamborghini\",\"Land\",\"Lexus\",\"Lotus\",\"Lynk\",\"Maserati\",\"Mazda\",\"Mclaren\",\"Mercedes-benz\",\"Mg\",\"Mini\",\"Mitsubishi\",\"Morgan\",\"Nissan\",\"Opel\",\"Peugeot\",\"Polestar\",\"Porsche\",\"Renault\",\"Rolls-royce\",\"Skoda\",\"Smart\",\"Ssangyong\",\"Subaru\",\"Suzuki\",\"Tesla\",\"Toyota\",\"Volkswagen\",\"Volvo\"],\"y\":[150590,625611,11795,69144,35408070,382678,29789316,297166,276030,1777419,226811,3301099,61200,137324,31874,2257336,23819181,690967,10813791,1793643,2516169,5589920,49574,3961517,10,330,70000,494948,2166727,17,47616110,23940,3233535,2087432,17900,3735066,23340147,11040219,99000,3520856,6449495,1429,28616484,3465253,940836,489031,5910120,2142522,7887139,73688881,15582112],\"type\":\"bar\"}],                        {\"legend\":{\"bgcolor\":\"#F5F6F9\",\"font\":{\"color\":\"#4D5663\"}},\"paper_bgcolor\":\"#F5F6F9\",\"plot_bgcolor\":\"#F5F6F9\",\"template\":{\"data\":{\"barpolar\":[{\"marker\":{\"line\":{\"color\":\"#E5ECF6\",\"width\":0.5},\"pattern\":{\"fillmode\":\"overlay\",\"size\":10,\"solidity\":0.2}},\"type\":\"barpolar\"}],\"bar\":[{\"error_x\":{\"color\":\"#2a3f5f\"},\"error_y\":{\"color\":\"#2a3f5f\"},\"marker\":{\"line\":{\"color\":\"#E5ECF6\",\"width\":0.5},\"pattern\":{\"fillmode\":\"overlay\",\"size\":10,\"solidity\":0.2}},\"type\":\"bar\"}],\"carpet\":[{\"aaxis\":{\"endlinecolor\":\"#2a3f5f\",\"gridcolor\":\"white\",\"linecolor\":\"white\",\"minorgridcolor\":\"white\",\"startlinecolor\":\"#2a3f5f\"},\"baxis\":{\"endlinecolor\":\"#2a3f5f\",\"gridcolor\":\"white\",\"linecolor\":\"white\",\"minorgridcolor\":\"white\",\"startlinecolor\":\"#2a3f5f\"},\"type\":\"carpet\"}],\"choropleth\":[{\"colorbar\":{\"outlinewidth\":0,\"ticks\":\"\"},\"type\":\"choropleth\"}],\"contourcarpet\":[{\"colorbar\":{\"outlinewidth\":0,\"ticks\":\"\"},\"type\":\"contourcarpet\"}],\"contour\":[{\"colorbar\":{\"outlinewidth\":0,\"ticks\":\"\"},\"colorscale\":[[0.0,\"#0d0887\"],[0.1111111111111111,\"#46039f\"],[0.2222222222222222,\"#7201a8\"],[0.3333333333333333,\"#9c179e\"],[0.4444444444444444,\"#bd3786\"],[0.5555555555555556,\"#d8576b\"],[0.6666666666666666,\"#ed7953\"],[0.7777777777777778,\"#fb9f3a\"],[0.8888888888888888,\"#fdca26\"],[1.0,\"#f0f921\"]],\"type\":\"contour\"}],\"heatmapgl\":[{\"colorbar\":{\"outlinewidth\":0,\"ticks\":\"\"},\"colorscale\":[[0.0,\"#0d0887\"],[0.1111111111111111,\"#46039f\"],[0.2222222222222222,\"#7201a8\"],[0.3333333333333333,\"#9c179e\"],[0.4444444444444444,\"#bd3786\"],[0.5555555555555556,\"#d8576b\"],[0.6666666666666666,\"#ed7953\"],[0.7777777777777778,\"#fb9f3a\"],[0.8888888888888888,\"#fdca26\"],[1.0,\"#f0f921\"]],\"type\":\"heatmapgl\"}],\"heatmap\":[{\"colorbar\":{\"outlinewidth\":0,\"ticks\":\"\"},\"colorscale\":[[0.0,\"#0d0887\"],[0.1111111111111111,\"#46039f\"],[0.2222222222222222,\"#7201a8\"],[0.3333333333333333,\"#9c179e\"],[0.4444444444444444,\"#bd3786\"],[0.5555555555555556,\"#d8576b\"],[0.6666666666666666,\"#ed7953\"],[0.7777777777777778,\"#fb9f3a\"],[0.8888888888888888,\"#fdca26\"],[1.0,\"#f0f921\"]],\"type\":\"heatmap\"}],\"histogram2dcontour\":[{\"colorbar\":{\"outlinewidth\":0,\"ticks\":\"\"},\"colorscale\":[[0.0,\"#0d0887\"],[0.1111111111111111,\"#46039f\"],[0.2222222222222222,\"#7201a8\"],[0.3333333333333333,\"#9c179e\"],[0.4444444444444444,\"#bd3786\"],[0.5555555555555556,\"#d8576b\"],[0.6666666666666666,\"#ed7953\"],[0.7777777777777778,\"#fb9f3a\"],[0.8888888888888888,\"#fdca26\"],[1.0,\"#f0f921\"]],\"type\":\"histogram2dcontour\"}],\"histogram2d\":[{\"colorbar\":{\"outlinewidth\":0,\"ticks\":\"\"},\"colorscale\":[[0.0,\"#0d0887\"],[0.1111111111111111,\"#46039f\"],[0.2222222222222222,\"#7201a8\"],[0.3333333333333333,\"#9c179e\"],[0.4444444444444444,\"#bd3786\"],[0.5555555555555556,\"#d8576b\"],[0.6666666666666666,\"#ed7953\"],[0.7777777777777778,\"#fb9f3a\"],[0.8888888888888888,\"#fdca26\"],[1.0,\"#f0f921\"]],\"type\":\"histogram2d\"}],\"histogram\":[{\"marker\":{\"pattern\":{\"fillmode\":\"overlay\",\"size\":10,\"solidity\":0.2}},\"type\":\"histogram\"}],\"mesh3d\":[{\"colorbar\":{\"outlinewidth\":0,\"ticks\":\"\"},\"type\":\"mesh3d\"}],\"parcoords\":[{\"line\":{\"colorbar\":{\"outlinewidth\":0,\"ticks\":\"\"}},\"type\":\"parcoords\"}],\"pie\":[{\"automargin\":true,\"type\":\"pie\"}],\"scatter3d\":[{\"line\":{\"colorbar\":{\"outlinewidth\":0,\"ticks\":\"\"}},\"marker\":{\"colorbar\":{\"outlinewidth\":0,\"ticks\":\"\"}},\"type\":\"scatter3d\"}],\"scattercarpet\":[{\"marker\":{\"colorbar\":{\"outlinewidth\":0,\"ticks\":\"\"}},\"type\":\"scattercarpet\"}],\"scattergeo\":[{\"marker\":{\"colorbar\":{\"outlinewidth\":0,\"ticks\":\"\"}},\"type\":\"scattergeo\"}],\"scattergl\":[{\"marker\":{\"colorbar\":{\"outlinewidth\":0,\"ticks\":\"\"}},\"type\":\"scattergl\"}],\"scattermapbox\":[{\"marker\":{\"colorbar\":{\"outlinewidth\":0,\"ticks\":\"\"}},\"type\":\"scattermapbox\"}],\"scatterpolargl\":[{\"marker\":{\"colorbar\":{\"outlinewidth\":0,\"ticks\":\"\"}},\"type\":\"scatterpolargl\"}],\"scatterpolar\":[{\"marker\":{\"colorbar\":{\"outlinewidth\":0,\"ticks\":\"\"}},\"type\":\"scatterpolar\"}],\"scatter\":[{\"fillpattern\":{\"fillmode\":\"overlay\",\"size\":10,\"solidity\":0.2},\"type\":\"scatter\"}],\"scatterternary\":[{\"marker\":{\"colorbar\":{\"outlinewidth\":0,\"ticks\":\"\"}},\"type\":\"scatterternary\"}],\"surface\":[{\"colorbar\":{\"outlinewidth\":0,\"ticks\":\"\"},\"colorscale\":[[0.0,\"#0d0887\"],[0.1111111111111111,\"#46039f\"],[0.2222222222222222,\"#7201a8\"],[0.3333333333333333,\"#9c179e\"],[0.4444444444444444,\"#bd3786\"],[0.5555555555555556,\"#d8576b\"],[0.6666666666666666,\"#ed7953\"],[0.7777777777777778,\"#fb9f3a\"],[0.8888888888888888,\"#fdca26\"],[1.0,\"#f0f921\"]],\"type\":\"surface\"}],\"table\":[{\"cells\":{\"fill\":{\"color\":\"#EBF0F8\"},\"line\":{\"color\":\"white\"}},\"header\":{\"fill\":{\"color\":\"#C8D4E3\"},\"line\":{\"color\":\"white\"}},\"type\":\"table\"}]},\"layout\":{\"annotationdefaults\":{\"arrowcolor\":\"#2a3f5f\",\"arrowhead\":0,\"arrowwidth\":1},\"autotypenumbers\":\"strict\",\"coloraxis\":{\"colorbar\":{\"outlinewidth\":0,\"ticks\":\"\"}},\"colorscale\":{\"diverging\":[[0,\"#8e0152\"],[0.1,\"#c51b7d\"],[0.2,\"#de77ae\"],[0.3,\"#f1b6da\"],[0.4,\"#fde0ef\"],[0.5,\"#f7f7f7\"],[0.6,\"#e6f5d0\"],[0.7,\"#b8e186\"],[0.8,\"#7fbc41\"],[0.9,\"#4d9221\"],[1,\"#276419\"]],\"sequential\":[[0.0,\"#0d0887\"],[0.1111111111111111,\"#46039f\"],[0.2222222222222222,\"#7201a8\"],[0.3333333333333333,\"#9c179e\"],[0.4444444444444444,\"#bd3786\"],[0.5555555555555556,\"#d8576b\"],[0.6666666666666666,\"#ed7953\"],[0.7777777777777778,\"#fb9f3a\"],[0.8888888888888888,\"#fdca26\"],[1.0,\"#f0f921\"]],\"sequentialminus\":[[0.0,\"#0d0887\"],[0.1111111111111111,\"#46039f\"],[0.2222222222222222,\"#7201a8\"],[0.3333333333333333,\"#9c179e\"],[0.4444444444444444,\"#bd3786\"],[0.5555555555555556,\"#d8576b\"],[0.6666666666666666,\"#ed7953\"],[0.7777777777777778,\"#fb9f3a\"],[0.8888888888888888,\"#fdca26\"],[1.0,\"#f0f921\"]]},\"colorway\":[\"#636efa\",\"#EF553B\",\"#00cc96\",\"#ab63fa\",\"#FFA15A\",\"#19d3f3\",\"#FF6692\",\"#B6E880\",\"#FF97FF\",\"#FECB52\"],\"font\":{\"color\":\"#2a3f5f\"},\"geo\":{\"bgcolor\":\"white\",\"lakecolor\":\"white\",\"landcolor\":\"#E5ECF6\",\"showlakes\":true,\"showland\":true,\"subunitcolor\":\"white\"},\"hoverlabel\":{\"align\":\"left\"},\"hovermode\":\"closest\",\"mapbox\":{\"style\":\"light\"},\"paper_bgcolor\":\"white\",\"plot_bgcolor\":\"#E5ECF6\",\"polar\":{\"angularaxis\":{\"gridcolor\":\"white\",\"linecolor\":\"white\",\"ticks\":\"\"},\"bgcolor\":\"#E5ECF6\",\"radialaxis\":{\"gridcolor\":\"white\",\"linecolor\":\"white\",\"ticks\":\"\"}},\"scene\":{\"xaxis\":{\"backgroundcolor\":\"#E5ECF6\",\"gridcolor\":\"white\",\"gridwidth\":2,\"linecolor\":\"white\",\"showbackground\":true,\"ticks\":\"\",\"zerolinecolor\":\"white\"},\"yaxis\":{\"backgroundcolor\":\"#E5ECF6\",\"gridcolor\":\"white\",\"gridwidth\":2,\"linecolor\":\"white\",\"showbackground\":true,\"ticks\":\"\",\"zerolinecolor\":\"white\"},\"zaxis\":{\"backgroundcolor\":\"#E5ECF6\",\"gridcolor\":\"white\",\"gridwidth\":2,\"linecolor\":\"white\",\"showbackground\":true,\"ticks\":\"\",\"zerolinecolor\":\"white\"}},\"shapedefaults\":{\"line\":{\"color\":\"#2a3f5f\"}},\"ternary\":{\"aaxis\":{\"gridcolor\":\"white\",\"linecolor\":\"white\",\"ticks\":\"\"},\"baxis\":{\"gridcolor\":\"white\",\"linecolor\":\"white\",\"ticks\":\"\"},\"bgcolor\":\"#E5ECF6\",\"caxis\":{\"gridcolor\":\"white\",\"linecolor\":\"white\",\"ticks\":\"\"}},\"title\":{\"x\":0.05},\"xaxis\":{\"automargin\":true,\"gridcolor\":\"white\",\"linecolor\":\"white\",\"ticks\":\"\",\"title\":{\"standoff\":15},\"zerolinecolor\":\"white\",\"zerolinewidth\":2},\"yaxis\":{\"automargin\":true,\"gridcolor\":\"white\",\"linecolor\":\"white\",\"ticks\":\"\",\"title\":{\"standoff\":15},\"zerolinecolor\":\"white\",\"zerolinewidth\":2}}},\"title\":{\"font\":{\"color\":\"#4D5663\"},\"text\":\"TOTAL MILAGE\"},\"xaxis\":{\"gridcolor\":\"#E1E5ED\",\"showgrid\":true,\"tickfont\":{\"color\":\"#4D5663\"},\"title\":{\"font\":{\"color\":\"#4D5663\"},\"text\":\"BRAND\"},\"zerolinecolor\":\"#E1E5ED\"},\"yaxis\":{\"gridcolor\":\"#E1E5ED\",\"showgrid\":true,\"tickfont\":{\"color\":\"#4D5663\"},\"title\":{\"font\":{\"color\":\"#4D5663\"},\"text\":\"MILAGE\"},\"zerolinecolor\":\"#E1E5ED\"}},                        {\"showLink\": true, \"linkText\": \"Export to plot.ly\", \"plotlyServerURL\": \"https://plot.ly\", \"responsive\": true}                    ).then(function(){\n",
       "                            \n",
       "var gd = document.getElementById('ad8c75bc-b431-4d4c-9220-c9c93122c40a');\n",
       "var x = new MutationObserver(function (mutations, observer) {{\n",
       "        var display = window.getComputedStyle(gd).display;\n",
       "        if (!display || display === 'none') {{\n",
       "            console.log([gd, 'removed!']);\n",
       "            Plotly.purge(gd);\n",
       "            observer.disconnect();\n",
       "        }}\n",
       "}});\n",
       "\n",
       "// Listen for the removal of the full notebook cells\n",
       "var notebookContainer = gd.closest('#notebook-container');\n",
       "if (notebookContainer) {{\n",
       "    x.observe(notebookContainer, {childList: true});\n",
       "}}\n",
       "\n",
       "// Listen for the clearing of the current output cell\n",
       "var outputEl = gd.closest('.output');\n",
       "if (outputEl) {{\n",
       "    x.observe(outputEl, {childList: true});\n",
       "}}\n",
       "\n",
       "                        })                };                });            </script>        </div>"
      ]
     },
     "metadata": {},
     "output_type": "display_data"
    }
   ],
   "source": [
    "\n",
    "B.iplot(kind=\"bar\",x=\"Brand\",y=\"milage\",text=\"milage\",\n",
    "        color=\"blue\",title=\"TOTAL MILAGE\",\n",
    "        yaxis_title=\"MILAGE\",xaxis_title=\"BRAND\")"
   ]
  },
  {
   "cell_type": "markdown",
   "id": "fbef33e5-b2ec-4abc-9e07-6e62a21b0e93",
   "metadata": {},
   "source": [
    "### 11. What is the percentage distribution of each value in the 'fuel' column of the dataset? (show in percentage) and visulaize on pie chart"
   ]
  },
  {
   "cell_type": "code",
   "execution_count": 33,
   "id": "a96c4951-3ab6-42c2-9fe8-78ba62004b06",
   "metadata": {
    "scrolled": true
   },
   "outputs": [],
   "source": [
    "ba=cars.value_counts(\"fuel\").reset_index()"
   ]
  },
  {
   "cell_type": "code",
   "execution_count": 34,
   "id": "cd53908f-92dc-4647-a3f7-799c93cc850b",
   "metadata": {},
   "outputs": [
    {
     "data": {
      "application/vnd.plotly.v1+json": {
       "config": {
        "linkText": "Export to plot.ly",
        "plotlyServerURL": "https://plot.ly",
        "showLink": true
       },
       "data": [
        {
         "labels": [
          "Petrol",
          "Diesel",
          "Hybrid",
          "Electric",
          "Not specified",
          "Others",
          "LPG"
         ],
         "marker": {
          "colors": [
           "rgba(255, 153, 51, 1.0)",
           "rgba(55, 128, 191, 1.0)",
           "rgba(50, 171, 96, 1.0)",
           "rgba(128, 0, 128, 1.0)",
           "rgba(219, 64, 82, 1.0)",
           "rgba(0, 128, 128, 1.0)",
           "rgba(255, 255, 51, 1.0)"
          ]
         },
         "name": "",
         "type": "pie",
         "values": [
          4845,
          2518,
          749,
          485,
          173,
          31,
          10
         ]
        }
       ],
       "layout": {
        "autosize": true,
        "legend": {
         "bgcolor": "#F5F6F9",
         "font": {
          "color": "#4D5663"
         }
        },
        "paper_bgcolor": "#F5F6F9",
        "plot_bgcolor": "#F5F6F9",
        "title": {
         "font": {
          "color": "#4D5663"
         },
         "text": "FUEL DISTRIBUTION"
        }
       }
      },
      "text/html": [
       "<div>                            <div id=\"14747ae9-f72d-4e26-ada0-d49b61758d0f\" class=\"plotly-graph-div\" style=\"height:525px; width:100%;\"></div>            <script type=\"text/javascript\">                require([\"plotly\"], function(Plotly) {                    window.PLOTLYENV=window.PLOTLYENV || {};\n",
       "                    window.PLOTLYENV.BASE_URL='https://plot.ly';                                    if (document.getElementById(\"14747ae9-f72d-4e26-ada0-d49b61758d0f\")) {                    Plotly.newPlot(                        \"14747ae9-f72d-4e26-ada0-d49b61758d0f\",                        [{\"labels\":[\"Petrol\",\"Diesel\",\"Hybrid\",\"Electric\",\"Not specified\",\"Others\",\"LPG\"],\"marker\":{\"colors\":[\"rgba(255, 153, 51, 1.0)\",\"rgba(55, 128, 191, 1.0)\",\"rgba(50, 171, 96, 1.0)\",\"rgba(128, 0, 128, 1.0)\",\"rgba(219, 64, 82, 1.0)\",\"rgba(0, 128, 128, 1.0)\",\"rgba(255, 255, 51, 1.0)\"]},\"name\":\"\",\"values\":[4845,2518,749,485,173,31,10],\"type\":\"pie\"}],                        {\"legend\":{\"bgcolor\":\"#F5F6F9\",\"font\":{\"color\":\"#4D5663\"}},\"paper_bgcolor\":\"#F5F6F9\",\"plot_bgcolor\":\"#F5F6F9\",\"titlefont\":{\"color\":\"#4D5663\"},\"title\":\"FUEL DISTRIBUTION\"},                        {\"showLink\": true, \"linkText\": \"Export to plot.ly\", \"plotlyServerURL\": \"https://plot.ly\", \"responsive\": true}                    ).then(function(){\n",
       "                            \n",
       "var gd = document.getElementById('14747ae9-f72d-4e26-ada0-d49b61758d0f');\n",
       "var x = new MutationObserver(function (mutations, observer) {{\n",
       "        var display = window.getComputedStyle(gd).display;\n",
       "        if (!display || display === 'none') {{\n",
       "            console.log([gd, 'removed!']);\n",
       "            Plotly.purge(gd);\n",
       "            observer.disconnect();\n",
       "        }}\n",
       "}});\n",
       "\n",
       "// Listen for the removal of the full notebook cells\n",
       "var notebookContainer = gd.closest('#notebook-container');\n",
       "if (notebookContainer) {{\n",
       "    x.observe(notebookContainer, {childList: true});\n",
       "}}\n",
       "\n",
       "// Listen for the clearing of the current output cell\n",
       "var outputEl = gd.closest('.output');\n",
       "if (outputEl) {{\n",
       "    x.observe(outputEl, {childList: true});\n",
       "}}\n",
       "\n",
       "                        })                };                });            </script>        </div>"
      ]
     },
     "metadata": {},
     "output_type": "display_data"
    }
   ],
   "source": [
    "ba.iplot(kind=\"pie\",labels=\"fuel\", values=\"count\",text=\"transmition\",\n",
    "        title=\"FUEL DISTRIBUTION\")"
   ]
  },
  {
   "cell_type": "markdown",
   "id": "af71dcfc-799c-4085-a12f-be392d638bd8",
   "metadata": {},
   "source": [
    "### 12. Get the total price for each segment"
   ]
  },
  {
   "cell_type": "code",
   "execution_count": 35,
   "id": "58813ac8-a65c-4797-85b0-d78a8ae252c9",
   "metadata": {},
   "outputs": [
    {
     "data": {
      "text/html": [
       "<div>\n",
       "<style scoped>\n",
       "    .dataframe tbody tr th:only-of-type {\n",
       "        vertical-align: middle;\n",
       "    }\n",
       "\n",
       "    .dataframe tbody tr th {\n",
       "        vertical-align: top;\n",
       "    }\n",
       "\n",
       "    .dataframe thead th {\n",
       "        text-align: right;\n",
       "    }\n",
       "</style>\n",
       "<table border=\"1\" class=\"dataframe\">\n",
       "  <thead>\n",
       "    <tr style=\"text-align: right;\">\n",
       "      <th></th>\n",
       "      <th>Segment</th>\n",
       "      <th>price</th>\n",
       "    </tr>\n",
       "  </thead>\n",
       "  <tbody>\n",
       "    <tr>\n",
       "      <th>0</th>\n",
       "      <td>Low-Range</td>\n",
       "      <td>54738300</td>\n",
       "    </tr>\n",
       "    <tr>\n",
       "      <th>1</th>\n",
       "      <td>Luxury</td>\n",
       "      <td>105171358</td>\n",
       "    </tr>\n",
       "    <tr>\n",
       "      <th>2</th>\n",
       "      <td>Mid-Range</td>\n",
       "      <td>54273689</td>\n",
       "    </tr>\n",
       "    <tr>\n",
       "      <th>3</th>\n",
       "      <td>Premium</td>\n",
       "      <td>82431323</td>\n",
       "    </tr>\n",
       "    <tr>\n",
       "      <th>4</th>\n",
       "      <td>Ultra-Luxury/Exotic</td>\n",
       "      <td>17441864</td>\n",
       "    </tr>\n",
       "    <tr>\n",
       "      <th>5</th>\n",
       "      <td>Unknown</td>\n",
       "      <td>7526151</td>\n",
       "    </tr>\n",
       "  </tbody>\n",
       "</table>\n",
       "</div>"
      ],
      "text/plain": [
       "               Segment      price\n",
       "0            Low-Range   54738300\n",
       "1               Luxury  105171358\n",
       "2            Mid-Range   54273689\n",
       "3              Premium   82431323\n",
       "4  Ultra-Luxury/Exotic   17441864\n",
       "5              Unknown    7526151"
      ]
     },
     "execution_count": 35,
     "metadata": {},
     "output_type": "execute_result"
    }
   ],
   "source": [
    "cars.groupby([\"Segment\"])[\"price\"].sum().reset_index()"
   ]
  }
 ],
 "metadata": {
  "kernelspec": {
   "display_name": "Python [conda env:base] *",
   "language": "python",
   "name": "conda-base-py"
  },
  "language_info": {
   "codemirror_mode": {
    "name": "ipython",
    "version": 3
   },
   "file_extension": ".py",
   "mimetype": "text/x-python",
   "name": "python",
   "nbconvert_exporter": "python",
   "pygments_lexer": "ipython3",
   "version": "3.12.7"
  }
 },
 "nbformat": 4,
 "nbformat_minor": 5
}
